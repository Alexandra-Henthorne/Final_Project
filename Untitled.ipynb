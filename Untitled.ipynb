{
 "cells": [
  {
   "cell_type": "code",
   "execution_count": 7,
   "id": "cc95ca61",
   "metadata": {},
   "outputs": [],
   "source": [
    "import pandas as pd\n",
    "import numpy as np\n",
    "import pylab\n",
    "import requests\n",
    "import bs4\n",
    "from bs4 import BeautifulSoup\n",
    "import matplotlib.pyplot as plt\n",
    "from sklearn.neighbors import KDTree\n",
    "from sklearn.utils import shuffle\n",
    "from pandas.plotting import scatter_matrix\n"
   ]
  },
  {
   "cell_type": "code",
   "execution_count": 11,
   "id": "6c945d86",
   "metadata": {},
   "outputs": [],
   "source": [
    "#Here we import the two datasets that we will be usiing in our final project\n",
    "df_red = pd.read_csv('WinequalityRed.csv')\n",
    "df_white = pd.read_csv('WinequalityWhite.csv')\n",
    "\n"
   ]
  },
  {
   "cell_type": "code",
   "execution_count": 12,
   "id": "967b6b1d",
   "metadata": {},
   "outputs": [
    {
     "name": "stdout",
     "output_type": "stream",
     "text": [
      "['fixed acidity' 'volatile acidity' 'citric acid' 'residual sugar'\n",
      " 'chlorides' 'free sulfur dioxide' 'total sulfur dioxide' 'density' 'pH'\n",
      " 'sulphates' 'alcohol' 'quality']\n"
     ]
    }
   ],
   "source": [
    "\n",
    "# print out the column names\n",
    "print(df_red.columns.values)"
   ]
  },
  {
   "cell_type": "code",
   "execution_count": 13,
   "id": "076a1673",
   "metadata": {},
   "outputs": [
    {
     "data": {
      "text/html": [
       "<div>\n",
       "<style scoped>\n",
       "    .dataframe tbody tr th:only-of-type {\n",
       "        vertical-align: middle;\n",
       "    }\n",
       "\n",
       "    .dataframe tbody tr th {\n",
       "        vertical-align: top;\n",
       "    }\n",
       "\n",
       "    .dataframe thead th {\n",
       "        text-align: right;\n",
       "    }\n",
       "</style>\n",
       "<table border=\"1\" class=\"dataframe\">\n",
       "  <thead>\n",
       "    <tr style=\"text-align: right;\">\n",
       "      <th></th>\n",
       "      <th>fixed acidity</th>\n",
       "      <th>volatile acidity</th>\n",
       "      <th>citric acid</th>\n",
       "      <th>residual sugar</th>\n",
       "      <th>chlorides</th>\n",
       "      <th>free sulfur dioxide</th>\n",
       "      <th>total sulfur dioxide</th>\n",
       "      <th>density</th>\n",
       "      <th>pH</th>\n",
       "      <th>sulphates</th>\n",
       "      <th>alcohol</th>\n",
       "      <th>quality</th>\n",
       "    </tr>\n",
       "  </thead>\n",
       "  <tbody>\n",
       "    <tr>\n",
       "      <th>0</th>\n",
       "      <td>7.4</td>\n",
       "      <td>0.70</td>\n",
       "      <td>0.00</td>\n",
       "      <td>1.9</td>\n",
       "      <td>0.076</td>\n",
       "      <td>11.0</td>\n",
       "      <td>34.0</td>\n",
       "      <td>0.9978</td>\n",
       "      <td>3.51</td>\n",
       "      <td>0.56</td>\n",
       "      <td>9.4</td>\n",
       "      <td>5</td>\n",
       "    </tr>\n",
       "    <tr>\n",
       "      <th>1</th>\n",
       "      <td>7.8</td>\n",
       "      <td>0.88</td>\n",
       "      <td>0.00</td>\n",
       "      <td>2.6</td>\n",
       "      <td>0.098</td>\n",
       "      <td>25.0</td>\n",
       "      <td>67.0</td>\n",
       "      <td>0.9968</td>\n",
       "      <td>3.20</td>\n",
       "      <td>0.68</td>\n",
       "      <td>9.8</td>\n",
       "      <td>5</td>\n",
       "    </tr>\n",
       "    <tr>\n",
       "      <th>2</th>\n",
       "      <td>7.8</td>\n",
       "      <td>0.76</td>\n",
       "      <td>0.04</td>\n",
       "      <td>2.3</td>\n",
       "      <td>0.092</td>\n",
       "      <td>15.0</td>\n",
       "      <td>54.0</td>\n",
       "      <td>0.9970</td>\n",
       "      <td>3.26</td>\n",
       "      <td>0.65</td>\n",
       "      <td>9.8</td>\n",
       "      <td>5</td>\n",
       "    </tr>\n",
       "    <tr>\n",
       "      <th>3</th>\n",
       "      <td>11.2</td>\n",
       "      <td>0.28</td>\n",
       "      <td>0.56</td>\n",
       "      <td>1.9</td>\n",
       "      <td>0.075</td>\n",
       "      <td>17.0</td>\n",
       "      <td>60.0</td>\n",
       "      <td>0.9980</td>\n",
       "      <td>3.16</td>\n",
       "      <td>0.58</td>\n",
       "      <td>9.8</td>\n",
       "      <td>6</td>\n",
       "    </tr>\n",
       "    <tr>\n",
       "      <th>4</th>\n",
       "      <td>7.4</td>\n",
       "      <td>0.70</td>\n",
       "      <td>0.00</td>\n",
       "      <td>1.9</td>\n",
       "      <td>0.076</td>\n",
       "      <td>11.0</td>\n",
       "      <td>34.0</td>\n",
       "      <td>0.9978</td>\n",
       "      <td>3.51</td>\n",
       "      <td>0.56</td>\n",
       "      <td>9.4</td>\n",
       "      <td>5</td>\n",
       "    </tr>\n",
       "  </tbody>\n",
       "</table>\n",
       "</div>"
      ],
      "text/plain": [
       "   fixed acidity  volatile acidity  citric acid  residual sugar  chlorides  \\\n",
       "0            7.4              0.70         0.00             1.9      0.076   \n",
       "1            7.8              0.88         0.00             2.6      0.098   \n",
       "2            7.8              0.76         0.04             2.3      0.092   \n",
       "3           11.2              0.28         0.56             1.9      0.075   \n",
       "4            7.4              0.70         0.00             1.9      0.076   \n",
       "\n",
       "   free sulfur dioxide  total sulfur dioxide  density    pH  sulphates  \\\n",
       "0                 11.0                  34.0   0.9978  3.51       0.56   \n",
       "1                 25.0                  67.0   0.9968  3.20       0.68   \n",
       "2                 15.0                  54.0   0.9970  3.26       0.65   \n",
       "3                 17.0                  60.0   0.9980  3.16       0.58   \n",
       "4                 11.0                  34.0   0.9978  3.51       0.56   \n",
       "\n",
       "   alcohol  quality  \n",
       "0      9.4        5  \n",
       "1      9.8        5  \n",
       "2      9.8        5  \n",
       "3      9.8        6  \n",
       "4      9.4        5  "
      ]
     },
     "execution_count": 13,
     "metadata": {},
     "output_type": "execute_result"
    }
   ],
   "source": [
    "df_red[:5]\n"
   ]
  },
  {
   "cell_type": "code",
   "execution_count": 14,
   "id": "c46d3540",
   "metadata": {},
   "outputs": [
    {
     "data": {
      "text/plain": [
       "(1599, 12)"
      ]
     },
     "execution_count": 14,
     "metadata": {},
     "output_type": "execute_result"
    }
   ],
   "source": [
    "df_red.shape"
   ]
  },
  {
   "cell_type": "code",
   "execution_count": 15,
   "id": "aa48e18f",
   "metadata": {},
   "outputs": [],
   "source": [
    "#Now I will drop any rows with missing data to clean it up"
   ]
  },
  {
   "cell_type": "code",
   "execution_count": 16,
   "id": "7e2217c5",
   "metadata": {},
   "outputs": [],
   "source": [
    "df_red = df_red.dropna()\n"
   ]
  },
  {
   "cell_type": "code",
   "execution_count": 17,
   "id": "a96d4627",
   "metadata": {},
   "outputs": [
    {
     "data": {
      "text/html": [
       "<div>\n",
       "<style scoped>\n",
       "    .dataframe tbody tr th:only-of-type {\n",
       "        vertical-align: middle;\n",
       "    }\n",
       "\n",
       "    .dataframe tbody tr th {\n",
       "        vertical-align: top;\n",
       "    }\n",
       "\n",
       "    .dataframe thead th {\n",
       "        text-align: right;\n",
       "    }\n",
       "</style>\n",
       "<table border=\"1\" class=\"dataframe\">\n",
       "  <thead>\n",
       "    <tr style=\"text-align: right;\">\n",
       "      <th></th>\n",
       "      <th>fixed acidity</th>\n",
       "      <th>volatile acidity</th>\n",
       "      <th>citric acid</th>\n",
       "      <th>residual sugar</th>\n",
       "      <th>chlorides</th>\n",
       "      <th>free sulfur dioxide</th>\n",
       "      <th>total sulfur dioxide</th>\n",
       "      <th>density</th>\n",
       "      <th>pH</th>\n",
       "      <th>sulphates</th>\n",
       "      <th>alcohol</th>\n",
       "      <th>quality</th>\n",
       "    </tr>\n",
       "  </thead>\n",
       "  <tbody>\n",
       "    <tr>\n",
       "      <th>0</th>\n",
       "      <td>7.0</td>\n",
       "      <td>0.27</td>\n",
       "      <td>0.36</td>\n",
       "      <td>20.7</td>\n",
       "      <td>0.045</td>\n",
       "      <td>45.0</td>\n",
       "      <td>170.0</td>\n",
       "      <td>1.0010</td>\n",
       "      <td>3.00</td>\n",
       "      <td>0.45</td>\n",
       "      <td>8.8</td>\n",
       "      <td>6</td>\n",
       "    </tr>\n",
       "    <tr>\n",
       "      <th>1</th>\n",
       "      <td>6.3</td>\n",
       "      <td>0.30</td>\n",
       "      <td>0.34</td>\n",
       "      <td>1.6</td>\n",
       "      <td>0.049</td>\n",
       "      <td>14.0</td>\n",
       "      <td>132.0</td>\n",
       "      <td>0.9940</td>\n",
       "      <td>3.30</td>\n",
       "      <td>0.49</td>\n",
       "      <td>9.5</td>\n",
       "      <td>6</td>\n",
       "    </tr>\n",
       "    <tr>\n",
       "      <th>2</th>\n",
       "      <td>8.1</td>\n",
       "      <td>0.28</td>\n",
       "      <td>0.40</td>\n",
       "      <td>6.9</td>\n",
       "      <td>0.050</td>\n",
       "      <td>30.0</td>\n",
       "      <td>97.0</td>\n",
       "      <td>0.9951</td>\n",
       "      <td>3.26</td>\n",
       "      <td>0.44</td>\n",
       "      <td>10.1</td>\n",
       "      <td>6</td>\n",
       "    </tr>\n",
       "    <tr>\n",
       "      <th>3</th>\n",
       "      <td>7.2</td>\n",
       "      <td>0.23</td>\n",
       "      <td>0.32</td>\n",
       "      <td>8.5</td>\n",
       "      <td>0.058</td>\n",
       "      <td>47.0</td>\n",
       "      <td>186.0</td>\n",
       "      <td>0.9956</td>\n",
       "      <td>3.19</td>\n",
       "      <td>0.40</td>\n",
       "      <td>9.9</td>\n",
       "      <td>6</td>\n",
       "    </tr>\n",
       "    <tr>\n",
       "      <th>4</th>\n",
       "      <td>7.2</td>\n",
       "      <td>0.23</td>\n",
       "      <td>0.32</td>\n",
       "      <td>8.5</td>\n",
       "      <td>0.058</td>\n",
       "      <td>47.0</td>\n",
       "      <td>186.0</td>\n",
       "      <td>0.9956</td>\n",
       "      <td>3.19</td>\n",
       "      <td>0.40</td>\n",
       "      <td>9.9</td>\n",
       "      <td>6</td>\n",
       "    </tr>\n",
       "  </tbody>\n",
       "</table>\n",
       "</div>"
      ],
      "text/plain": [
       "   fixed acidity  volatile acidity  citric acid  residual sugar  chlorides  \\\n",
       "0            7.0              0.27         0.36            20.7      0.045   \n",
       "1            6.3              0.30         0.34             1.6      0.049   \n",
       "2            8.1              0.28         0.40             6.9      0.050   \n",
       "3            7.2              0.23         0.32             8.5      0.058   \n",
       "4            7.2              0.23         0.32             8.5      0.058   \n",
       "\n",
       "   free sulfur dioxide  total sulfur dioxide  density    pH  sulphates  \\\n",
       "0                 45.0                 170.0   1.0010  3.00       0.45   \n",
       "1                 14.0                 132.0   0.9940  3.30       0.49   \n",
       "2                 30.0                  97.0   0.9951  3.26       0.44   \n",
       "3                 47.0                 186.0   0.9956  3.19       0.40   \n",
       "4                 47.0                 186.0   0.9956  3.19       0.40   \n",
       "\n",
       "   alcohol  quality  \n",
       "0      8.8        6  \n",
       "1      9.5        6  \n",
       "2     10.1        6  \n",
       "3      9.9        6  \n",
       "4      9.9        6  "
      ]
     },
     "execution_count": 17,
     "metadata": {},
     "output_type": "execute_result"
    }
   ],
   "source": [
    "df_white[:5]\n"
   ]
  },
  {
   "cell_type": "code",
   "execution_count": 18,
   "id": "853602b8",
   "metadata": {},
   "outputs": [],
   "source": [
    "df_white = df_white.dropna()\n"
   ]
  },
  {
   "cell_type": "code",
   "execution_count": 19,
   "id": "f5b64781",
   "metadata": {},
   "outputs": [
    {
     "data": {
      "text/plain": [
       "(4898, 12)"
      ]
     },
     "execution_count": 19,
     "metadata": {},
     "output_type": "execute_result"
    }
   ],
   "source": [
    "df_white.shape\n"
   ]
  },
  {
   "cell_type": "code",
   "execution_count": 20,
   "id": "1c7d97c6",
   "metadata": {},
   "outputs": [],
   "source": [
    "# I dropped any rows with missing values because we want to look at the data with zero null values. There are also more instances for white so match them up and have a complete data set we will need to make then equal to each other."
   ]
  },
  {
   "cell_type": "code",
   "execution_count": 21,
   "id": "a5b8d11a",
   "metadata": {},
   "outputs": [],
   "source": [
    "df_white = shuffle(df_white).reset_index(drop = True)\n",
    "\n",
    "df_white = df_white[:1599]"
   ]
  },
  {
   "cell_type": "code",
   "execution_count": 22,
   "id": "e6e0d9a1",
   "metadata": {},
   "outputs": [],
   "source": [
    "# Now I need to combine both data sets"
   ]
  },
  {
   "cell_type": "code",
   "execution_count": 23,
   "id": "1b49351a",
   "metadata": {},
   "outputs": [
    {
     "name": "stderr",
     "output_type": "stream",
     "text": [
      "/var/folders/2s/jfg371412_d0h7r1gk_j_n5w0000gn/T/ipykernel_1171/3334772365.py:2: FutureWarning: The frame.append method is deprecated and will be removed from pandas in a future version. Use pandas.concat instead.\n",
      "  df_combined = df_red.append(df_white, ignore_index =True)\n"
     ]
    },
    {
     "data": {
      "text/plain": [
       "(3198, 12)"
      ]
     },
     "execution_count": 23,
     "metadata": {},
     "output_type": "execute_result"
    }
   ],
   "source": [
    "# appending datasets of both white wine and red wine \n",
    "df_combined = df_red.append(df_white, ignore_index =True)\n",
    "df_combined = shuffle(df_combined)\n",
    "df_combined = df_combined.reset_index(drop=True)\n",
    "\n",
    "df_combined.shape"
   ]
  },
  {
   "cell_type": "code",
   "execution_count": 25,
   "id": "39e6fffc",
   "metadata": {},
   "outputs": [],
   "source": [
    "# Now to see what my data head will look like combined"
   ]
  },
  {
   "cell_type": "code",
   "execution_count": 24,
   "id": "3b87e459",
   "metadata": {},
   "outputs": [
    {
     "data": {
      "text/html": [
       "<div>\n",
       "<style scoped>\n",
       "    .dataframe tbody tr th:only-of-type {\n",
       "        vertical-align: middle;\n",
       "    }\n",
       "\n",
       "    .dataframe tbody tr th {\n",
       "        vertical-align: top;\n",
       "    }\n",
       "\n",
       "    .dataframe thead th {\n",
       "        text-align: right;\n",
       "    }\n",
       "</style>\n",
       "<table border=\"1\" class=\"dataframe\">\n",
       "  <thead>\n",
       "    <tr style=\"text-align: right;\">\n",
       "      <th></th>\n",
       "      <th>fixed acidity</th>\n",
       "      <th>volatile acidity</th>\n",
       "      <th>citric acid</th>\n",
       "      <th>residual sugar</th>\n",
       "      <th>chlorides</th>\n",
       "      <th>free sulfur dioxide</th>\n",
       "      <th>total sulfur dioxide</th>\n",
       "      <th>density</th>\n",
       "      <th>pH</th>\n",
       "      <th>sulphates</th>\n",
       "      <th>alcohol</th>\n",
       "      <th>quality</th>\n",
       "    </tr>\n",
       "  </thead>\n",
       "  <tbody>\n",
       "    <tr>\n",
       "      <th>count</th>\n",
       "      <td>3198.000000</td>\n",
       "      <td>3198.000000</td>\n",
       "      <td>3198.000000</td>\n",
       "      <td>3198.000000</td>\n",
       "      <td>3198.000000</td>\n",
       "      <td>3198.000000</td>\n",
       "      <td>3198.000000</td>\n",
       "      <td>3198.000000</td>\n",
       "      <td>3198.000000</td>\n",
       "      <td>3198.000000</td>\n",
       "      <td>3198.000000</td>\n",
       "      <td>3198.000000</td>\n",
       "    </tr>\n",
       "    <tr>\n",
       "      <th>mean</th>\n",
       "      <td>7.591604</td>\n",
       "      <td>0.400518</td>\n",
       "      <td>0.303812</td>\n",
       "      <td>4.389243</td>\n",
       "      <td>0.066742</td>\n",
       "      <td>25.637899</td>\n",
       "      <td>92.550500</td>\n",
       "      <td>0.995341</td>\n",
       "      <td>3.245863</td>\n",
       "      <td>0.573202</td>\n",
       "      <td>10.474036</td>\n",
       "      <td>5.757974</td>\n",
       "    </tr>\n",
       "    <tr>\n",
       "      <th>std</th>\n",
       "      <td>1.552259</td>\n",
       "      <td>0.192147</td>\n",
       "      <td>0.164561</td>\n",
       "      <td>4.103640</td>\n",
       "      <td>0.042631</td>\n",
       "      <td>16.995843</td>\n",
       "      <td>60.017261</td>\n",
       "      <td>0.002817</td>\n",
       "      <td>0.165521</td>\n",
       "      <td>0.167161</td>\n",
       "      <td>1.141138</td>\n",
       "      <td>0.839417</td>\n",
       "    </tr>\n",
       "    <tr>\n",
       "      <th>min</th>\n",
       "      <td>4.200000</td>\n",
       "      <td>0.080000</td>\n",
       "      <td>0.000000</td>\n",
       "      <td>0.600000</td>\n",
       "      <td>0.012000</td>\n",
       "      <td>1.000000</td>\n",
       "      <td>6.000000</td>\n",
       "      <td>0.987130</td>\n",
       "      <td>2.720000</td>\n",
       "      <td>0.230000</td>\n",
       "      <td>8.400000</td>\n",
       "      <td>3.000000</td>\n",
       "    </tr>\n",
       "    <tr>\n",
       "      <th>25%</th>\n",
       "      <td>6.600000</td>\n",
       "      <td>0.250000</td>\n",
       "      <td>0.210000</td>\n",
       "      <td>1.800000</td>\n",
       "      <td>0.042000</td>\n",
       "      <td>12.000000</td>\n",
       "      <td>37.000000</td>\n",
       "      <td>0.993360</td>\n",
       "      <td>3.140000</td>\n",
       "      <td>0.460000</td>\n",
       "      <td>9.500000</td>\n",
       "      <td>5.000000</td>\n",
       "    </tr>\n",
       "    <tr>\n",
       "      <th>50%</th>\n",
       "      <td>7.200000</td>\n",
       "      <td>0.350000</td>\n",
       "      <td>0.300000</td>\n",
       "      <td>2.400000</td>\n",
       "      <td>0.059000</td>\n",
       "      <td>23.000000</td>\n",
       "      <td>89.000000</td>\n",
       "      <td>0.995720</td>\n",
       "      <td>3.240000</td>\n",
       "      <td>0.550000</td>\n",
       "      <td>10.300000</td>\n",
       "      <td>6.000000</td>\n",
       "    </tr>\n",
       "    <tr>\n",
       "      <th>75%</th>\n",
       "      <td>8.200000</td>\n",
       "      <td>0.530000</td>\n",
       "      <td>0.400000</td>\n",
       "      <td>5.700000</td>\n",
       "      <td>0.080000</td>\n",
       "      <td>36.000000</td>\n",
       "      <td>135.000000</td>\n",
       "      <td>0.997360</td>\n",
       "      <td>3.360000</td>\n",
       "      <td>0.650000</td>\n",
       "      <td>11.200000</td>\n",
       "      <td>6.000000</td>\n",
       "    </tr>\n",
       "    <tr>\n",
       "      <th>max</th>\n",
       "      <td>15.900000</td>\n",
       "      <td>1.580000</td>\n",
       "      <td>1.000000</td>\n",
       "      <td>26.050000</td>\n",
       "      <td>0.611000</td>\n",
       "      <td>146.500000</td>\n",
       "      <td>366.500000</td>\n",
       "      <td>1.003690</td>\n",
       "      <td>4.010000</td>\n",
       "      <td>2.000000</td>\n",
       "      <td>14.900000</td>\n",
       "      <td>8.000000</td>\n",
       "    </tr>\n",
       "  </tbody>\n",
       "</table>\n",
       "</div>"
      ],
      "text/plain": [
       "       fixed acidity  volatile acidity  citric acid  residual sugar  \\\n",
       "count    3198.000000       3198.000000  3198.000000     3198.000000   \n",
       "mean        7.591604          0.400518     0.303812        4.389243   \n",
       "std         1.552259          0.192147     0.164561        4.103640   \n",
       "min         4.200000          0.080000     0.000000        0.600000   \n",
       "25%         6.600000          0.250000     0.210000        1.800000   \n",
       "50%         7.200000          0.350000     0.300000        2.400000   \n",
       "75%         8.200000          0.530000     0.400000        5.700000   \n",
       "max        15.900000          1.580000     1.000000       26.050000   \n",
       "\n",
       "         chlorides  free sulfur dioxide  total sulfur dioxide      density  \\\n",
       "count  3198.000000          3198.000000           3198.000000  3198.000000   \n",
       "mean      0.066742            25.637899             92.550500     0.995341   \n",
       "std       0.042631            16.995843             60.017261     0.002817   \n",
       "min       0.012000             1.000000              6.000000     0.987130   \n",
       "25%       0.042000            12.000000             37.000000     0.993360   \n",
       "50%       0.059000            23.000000             89.000000     0.995720   \n",
       "75%       0.080000            36.000000            135.000000     0.997360   \n",
       "max       0.611000           146.500000            366.500000     1.003690   \n",
       "\n",
       "                pH    sulphates      alcohol      quality  \n",
       "count  3198.000000  3198.000000  3198.000000  3198.000000  \n",
       "mean      3.245863     0.573202    10.474036     5.757974  \n",
       "std       0.165521     0.167161     1.141138     0.839417  \n",
       "min       2.720000     0.230000     8.400000     3.000000  \n",
       "25%       3.140000     0.460000     9.500000     5.000000  \n",
       "50%       3.240000     0.550000    10.300000     6.000000  \n",
       "75%       3.360000     0.650000    11.200000     6.000000  \n",
       "max       4.010000     2.000000    14.900000     8.000000  "
      ]
     },
     "execution_count": 24,
     "metadata": {},
     "output_type": "execute_result"
    }
   ],
   "source": [
    "desc = df_combined.describe()\n",
    "desc"
   ]
  },
  {
   "cell_type": "code",
   "execution_count": 26,
   "id": "e7ae508a",
   "metadata": {},
   "outputs": [
    {
     "data": {
      "text/html": [
       "<div>\n",
       "<style scoped>\n",
       "    .dataframe tbody tr th:only-of-type {\n",
       "        vertical-align: middle;\n",
       "    }\n",
       "\n",
       "    .dataframe tbody tr th {\n",
       "        vertical-align: top;\n",
       "    }\n",
       "\n",
       "    .dataframe thead th {\n",
       "        text-align: right;\n",
       "    }\n",
       "</style>\n",
       "<table border=\"1\" class=\"dataframe\">\n",
       "  <thead>\n",
       "    <tr style=\"text-align: right;\">\n",
       "      <th></th>\n",
       "      <th>fixed acidity</th>\n",
       "      <th>volatile acidity</th>\n",
       "      <th>citric acid</th>\n",
       "      <th>residual sugar</th>\n",
       "      <th>chlorides</th>\n",
       "      <th>free sulfur dioxide</th>\n",
       "      <th>total sulfur dioxide</th>\n",
       "      <th>density</th>\n",
       "      <th>pH</th>\n",
       "      <th>sulphates</th>\n",
       "      <th>alcohol</th>\n",
       "      <th>quality</th>\n",
       "    </tr>\n",
       "  </thead>\n",
       "  <tbody>\n",
       "    <tr>\n",
       "      <th>fixed acidity</th>\n",
       "      <td>1.000000</td>\n",
       "      <td>0.180282</td>\n",
       "      <td>0.408705</td>\n",
       "      <td>-0.169030</td>\n",
       "      <td>0.289013</td>\n",
       "      <td>-0.348518</td>\n",
       "      <td>-0.381705</td>\n",
       "      <td>0.556584</td>\n",
       "      <td>-0.282893</td>\n",
       "      <td>0.334836</td>\n",
       "      <td>-0.088530</td>\n",
       "      <td>-0.036932</td>\n",
       "    </tr>\n",
       "    <tr>\n",
       "      <th>volatile acidity</th>\n",
       "      <td>0.180282</td>\n",
       "      <td>1.000000</td>\n",
       "      <td>-0.455909</td>\n",
       "      <td>-0.277166</td>\n",
       "      <td>0.370112</td>\n",
       "      <td>-0.406984</td>\n",
       "      <td>-0.464943</td>\n",
       "      <td>0.350922</td>\n",
       "      <td>0.352404</td>\n",
       "      <td>0.204754</td>\n",
       "      <td>-0.106871</td>\n",
       "      <td>-0.329506</td>\n",
       "    </tr>\n",
       "    <tr>\n",
       "      <th>citric acid</th>\n",
       "      <td>0.408705</td>\n",
       "      <td>-0.455909</td>\n",
       "      <td>1.000000</td>\n",
       "      <td>0.163849</td>\n",
       "      <td>0.055762</td>\n",
       "      <td>0.128827</td>\n",
       "      <td>0.195242</td>\n",
       "      <td>0.099810</td>\n",
       "      <td>-0.425535</td>\n",
       "      <td>0.096025</td>\n",
       "      <td>0.046252</td>\n",
       "      <td>0.155157</td>\n",
       "    </tr>\n",
       "    <tr>\n",
       "      <th>residual sugar</th>\n",
       "      <td>-0.169030</td>\n",
       "      <td>-0.277166</td>\n",
       "      <td>0.163849</td>\n",
       "      <td>1.000000</td>\n",
       "      <td>-0.181056</td>\n",
       "      <td>0.476482</td>\n",
       "      <td>0.545425</td>\n",
       "      <td>0.337542</td>\n",
       "      <td>-0.299493</td>\n",
       "      <td>-0.241697</td>\n",
       "      <td>-0.273821</td>\n",
       "      <td>0.008479</td>\n",
       "    </tr>\n",
       "    <tr>\n",
       "      <th>chlorides</th>\n",
       "      <td>0.289013</td>\n",
       "      <td>0.370112</td>\n",
       "      <td>0.055762</td>\n",
       "      <td>-0.181056</td>\n",
       "      <td>1.000000</td>\n",
       "      <td>-0.240427</td>\n",
       "      <td>-0.318475</td>\n",
       "      <td>0.384447</td>\n",
       "      <td>0.033263</td>\n",
       "      <td>0.453983</td>\n",
       "      <td>-0.232484</td>\n",
       "      <td>-0.188700</td>\n",
       "    </tr>\n",
       "    <tr>\n",
       "      <th>free sulfur dioxide</th>\n",
       "      <td>-0.348518</td>\n",
       "      <td>-0.406984</td>\n",
       "      <td>0.128827</td>\n",
       "      <td>0.476482</td>\n",
       "      <td>-0.240427</td>\n",
       "      <td>1.000000</td>\n",
       "      <td>0.760810</td>\n",
       "      <td>-0.128728</td>\n",
       "      <td>-0.199820</td>\n",
       "      <td>-0.243222</td>\n",
       "      <td>-0.127806</td>\n",
       "      <td>0.077751</td>\n",
       "    </tr>\n",
       "    <tr>\n",
       "      <th>total sulfur dioxide</th>\n",
       "      <td>-0.381705</td>\n",
       "      <td>-0.464943</td>\n",
       "      <td>0.195242</td>\n",
       "      <td>0.545425</td>\n",
       "      <td>-0.318475</td>\n",
       "      <td>0.760810</td>\n",
       "      <td>1.000000</td>\n",
       "      <td>-0.169938</td>\n",
       "      <td>-0.316154</td>\n",
       "      <td>-0.340275</td>\n",
       "      <td>-0.188698</td>\n",
       "      <td>0.002326</td>\n",
       "    </tr>\n",
       "    <tr>\n",
       "      <th>density</th>\n",
       "      <td>0.556584</td>\n",
       "      <td>0.350922</td>\n",
       "      <td>0.099810</td>\n",
       "      <td>0.337542</td>\n",
       "      <td>0.384447</td>\n",
       "      <td>-0.128728</td>\n",
       "      <td>-0.169938</td>\n",
       "      <td>1.000000</td>\n",
       "      <td>0.042092</td>\n",
       "      <td>0.328307</td>\n",
       "      <td>-0.615393</td>\n",
       "      <td>-0.288565</td>\n",
       "    </tr>\n",
       "    <tr>\n",
       "      <th>pH</th>\n",
       "      <td>-0.282893</td>\n",
       "      <td>0.352404</td>\n",
       "      <td>-0.425535</td>\n",
       "      <td>-0.299493</td>\n",
       "      <td>0.033263</td>\n",
       "      <td>-0.199820</td>\n",
       "      <td>-0.316154</td>\n",
       "      <td>0.042092</td>\n",
       "      <td>1.000000</td>\n",
       "      <td>0.157973</td>\n",
       "      <td>0.126097</td>\n",
       "      <td>-0.032896</td>\n",
       "    </tr>\n",
       "    <tr>\n",
       "      <th>sulphates</th>\n",
       "      <td>0.334836</td>\n",
       "      <td>0.204754</td>\n",
       "      <td>0.096025</td>\n",
       "      <td>-0.241697</td>\n",
       "      <td>0.453983</td>\n",
       "      <td>-0.243222</td>\n",
       "      <td>-0.340275</td>\n",
       "      <td>0.328307</td>\n",
       "      <td>0.157973</td>\n",
       "      <td>1.000000</td>\n",
       "      <td>0.009240</td>\n",
       "      <td>0.067875</td>\n",
       "    </tr>\n",
       "    <tr>\n",
       "      <th>alcohol</th>\n",
       "      <td>-0.088530</td>\n",
       "      <td>-0.106871</td>\n",
       "      <td>0.046252</td>\n",
       "      <td>-0.273821</td>\n",
       "      <td>-0.232484</td>\n",
       "      <td>-0.127806</td>\n",
       "      <td>-0.188698</td>\n",
       "      <td>-0.615393</td>\n",
       "      <td>0.126097</td>\n",
       "      <td>0.009240</td>\n",
       "      <td>1.000000</td>\n",
       "      <td>0.445817</td>\n",
       "    </tr>\n",
       "    <tr>\n",
       "      <th>quality</th>\n",
       "      <td>-0.036932</td>\n",
       "      <td>-0.329506</td>\n",
       "      <td>0.155157</td>\n",
       "      <td>0.008479</td>\n",
       "      <td>-0.188700</td>\n",
       "      <td>0.077751</td>\n",
       "      <td>0.002326</td>\n",
       "      <td>-0.288565</td>\n",
       "      <td>-0.032896</td>\n",
       "      <td>0.067875</td>\n",
       "      <td>0.445817</td>\n",
       "      <td>1.000000</td>\n",
       "    </tr>\n",
       "  </tbody>\n",
       "</table>\n",
       "</div>"
      ],
      "text/plain": [
       "                      fixed acidity  volatile acidity  citric acid  \\\n",
       "fixed acidity              1.000000          0.180282     0.408705   \n",
       "volatile acidity           0.180282          1.000000    -0.455909   \n",
       "citric acid                0.408705         -0.455909     1.000000   \n",
       "residual sugar            -0.169030         -0.277166     0.163849   \n",
       "chlorides                  0.289013          0.370112     0.055762   \n",
       "free sulfur dioxide       -0.348518         -0.406984     0.128827   \n",
       "total sulfur dioxide      -0.381705         -0.464943     0.195242   \n",
       "density                    0.556584          0.350922     0.099810   \n",
       "pH                        -0.282893          0.352404    -0.425535   \n",
       "sulphates                  0.334836          0.204754     0.096025   \n",
       "alcohol                   -0.088530         -0.106871     0.046252   \n",
       "quality                   -0.036932         -0.329506     0.155157   \n",
       "\n",
       "                      residual sugar  chlorides  free sulfur dioxide  \\\n",
       "fixed acidity              -0.169030   0.289013            -0.348518   \n",
       "volatile acidity           -0.277166   0.370112            -0.406984   \n",
       "citric acid                 0.163849   0.055762             0.128827   \n",
       "residual sugar              1.000000  -0.181056             0.476482   \n",
       "chlorides                  -0.181056   1.000000            -0.240427   \n",
       "free sulfur dioxide         0.476482  -0.240427             1.000000   \n",
       "total sulfur dioxide        0.545425  -0.318475             0.760810   \n",
       "density                     0.337542   0.384447            -0.128728   \n",
       "pH                         -0.299493   0.033263            -0.199820   \n",
       "sulphates                  -0.241697   0.453983            -0.243222   \n",
       "alcohol                    -0.273821  -0.232484            -0.127806   \n",
       "quality                     0.008479  -0.188700             0.077751   \n",
       "\n",
       "                      total sulfur dioxide   density        pH  sulphates  \\\n",
       "fixed acidity                    -0.381705  0.556584 -0.282893   0.334836   \n",
       "volatile acidity                 -0.464943  0.350922  0.352404   0.204754   \n",
       "citric acid                       0.195242  0.099810 -0.425535   0.096025   \n",
       "residual sugar                    0.545425  0.337542 -0.299493  -0.241697   \n",
       "chlorides                        -0.318475  0.384447  0.033263   0.453983   \n",
       "free sulfur dioxide               0.760810 -0.128728 -0.199820  -0.243222   \n",
       "total sulfur dioxide              1.000000 -0.169938 -0.316154  -0.340275   \n",
       "density                          -0.169938  1.000000  0.042092   0.328307   \n",
       "pH                               -0.316154  0.042092  1.000000   0.157973   \n",
       "sulphates                        -0.340275  0.328307  0.157973   1.000000   \n",
       "alcohol                          -0.188698 -0.615393  0.126097   0.009240   \n",
       "quality                           0.002326 -0.288565 -0.032896   0.067875   \n",
       "\n",
       "                       alcohol   quality  \n",
       "fixed acidity        -0.088530 -0.036932  \n",
       "volatile acidity     -0.106871 -0.329506  \n",
       "citric acid           0.046252  0.155157  \n",
       "residual sugar       -0.273821  0.008479  \n",
       "chlorides            -0.232484 -0.188700  \n",
       "free sulfur dioxide  -0.127806  0.077751  \n",
       "total sulfur dioxide -0.188698  0.002326  \n",
       "density              -0.615393 -0.288565  \n",
       "pH                    0.126097 -0.032896  \n",
       "sulphates             0.009240  0.067875  \n",
       "alcohol               1.000000  0.445817  \n",
       "quality               0.445817  1.000000  "
      ]
     },
     "execution_count": 26,
     "metadata": {},
     "output_type": "execute_result"
    }
   ],
   "source": [
    "corrs = df_combined.corr()\n",
    "corrs"
   ]
  },
  {
   "cell_type": "code",
   "execution_count": 27,
   "id": "5101d14a",
   "metadata": {},
   "outputs": [],
   "source": [
    "# By creating this correlation I can see if there is any correlation between the ingredients and wine quality. "
   ]
  },
  {
   "cell_type": "code",
   "execution_count": 28,
   "id": "1d919223",
   "metadata": {},
   "outputs": [],
   "source": [
    "# Now to make some plots to see any correlation between each ingredient and quality ."
   ]
  },
  {
   "cell_type": "code",
   "execution_count": 31,
   "id": "2b4b21a5",
   "metadata": {},
   "outputs": [
    {
     "data": {
      "image/png": "[encoded data removed]",
      "text/plain": [
       "<Figure size 432x288 with 4 Axes>"
      ]
     },
     "metadata": {
      "needs_background": "light"
     },
     "output_type": "display_data"
    }
   ],
   "source": [
    "scatter_matrix(df_combined[['fixed acidity','quality']])\n",
    "\n",
    "f4 = plt.gcf()"
   ]
  },
  {
   "cell_type": "code",
   "execution_count": 33,
   "id": "0f02d75a",
   "metadata": {},
   "outputs": [
    {
     "data": {
      "image/png": "[encoded data removed]",
      "text/plain": [
       "<Figure size 432x288 with 4 Axes>"
      ]
     },
     "metadata": {
      "needs_background": "light"
     },
     "output_type": "display_data"
    }
   ],
   "source": [
    "scatter_matrix(df_combined[['volatile acidity','quality']])\n",
    "\n",
    "f4 = plt.gcf()"
   ]
  },
  {
   "cell_type": "code",
   "execution_count": 34,
   "id": "29f8ad76",
   "metadata": {},
   "outputs": [
    {
     "data": {
      "image/png": "[encoded data removed]",
      "text/plain": [
       "<Figure size 432x288 with 4 Axes>"
      ]
     },
     "metadata": {
      "needs_background": "light"
     },
     "output_type": "display_data"
    }
   ],
   "source": [
    "scatter_matrix(df_combined[['citric acid','quality']])\n",
    "\n",
    "f4 = plt.gcf()"
   ]
  },
  {
   "cell_type": "code",
   "execution_count": 35,
   "id": "7a48163b",
   "metadata": {},
   "outputs": [
    {
     "data": {
      "image/png": "[encoded data removed]",
      "text/plain": [
       "<Figure size 432x288 with 4 Axes>"
      ]
     },
     "metadata": {
      "needs_background": "light"
     },
     "output_type": "display_data"
    }
   ],
   "source": [
    "scatter_matrix(df_combined[['residual sugar','quality']])\n",
    "\n",
    "f4 = plt.gcf()"
   ]
  },
  {
   "cell_type": "code",
   "execution_count": 36,
   "id": "61ae3063",
   "metadata": {},
   "outputs": [
    {
     "data": {
      "image/png": "[encoded data removed]",
      "text/plain": [
       "<Figure size 432x288 with 4 Axes>"
      ]
     },
     "metadata": {
      "needs_background": "light"
     },
     "output_type": "display_data"
    }
   ],
   "source": [
    "scatter_matrix(df_combined[['chlorides','quality']])\n",
    "\n",
    "f4 = plt.gcf()"
   ]
  },
  {
   "cell_type": "code",
   "execution_count": 37,
   "id": "d4611ba2",
   "metadata": {},
   "outputs": [
    {
     "data": {
      "image/png": "[encoded data removed]",
      "text/plain": [
       "<Figure size 432x288 with 4 Axes>"
      ]
     },
     "metadata": {
      "needs_background": "light"
     },
     "output_type": "display_data"
    }
   ],
   "source": [
    "scatter_matrix(df_combined[['free sulfur dioxide','quality']])\n",
    "\n",
    "f4 = plt.gcf()"
   ]
  },
  {
   "cell_type": "code",
   "execution_count": 38,
   "id": "ce57efc9",
   "metadata": {},
   "outputs": [
    {
     "data": {
      "image/png": "[encoded data removed]",
      "text/plain": [
       "<Figure size 432x288 with 4 Axes>"
      ]
     },
     "metadata": {
      "needs_background": "light"
     },
     "output_type": "display_data"
    }
   ],
   "source": [
    "scatter_matrix(df_combined[['total sulfur dioxide','quality']])\n",
    "\n",
    "f4 = plt.gcf()"
   ]
  },
  {
   "cell_type": "code",
   "execution_count": 39,
   "id": "64d9e9b8",
   "metadata": {},
   "outputs": [
    {
     "data": {
      "image/png": "[encoded data removed]",
      "text/plain": [
       "<Figure size 432x288 with 4 Axes>"
      ]
     },
     "metadata": {
      "needs_background": "light"
     },
     "output_type": "display_data"
    }
   ],
   "source": [
    "scatter_matrix(df_combined[['density','quality']])\n",
    "\n",
    "f4 = plt.gcf()"
   ]
  },
  {
   "cell_type": "code",
   "execution_count": 40,
   "id": "009f7375",
   "metadata": {},
   "outputs": [
    {
     "data": {
      "image/png": "[encoded data removed]",
      "text/plain": [
       "<Figure size 432x288 with 4 Axes>"
      ]
     },
     "metadata": {
      "needs_background": "light"
     },
     "output_type": "display_data"
    }
   ],
   "source": [
    "scatter_matrix(df_combined[['pH','quality']])\n",
    "\n",
    "f4 = plt.gcf()"
   ]
  },
  {
   "cell_type": "code",
   "execution_count": 41,
   "id": "f6b5e7ab",
   "metadata": {},
   "outputs": [
    {
     "data": {
      "image/png": "[encoded data removed]",
      "text/plain": [
       "<Figure size 432x288 with 4 Axes>"
      ]
     },
     "metadata": {
      "needs_background": "light"
     },
     "output_type": "display_data"
    }
   ],
   "source": [
    "scatter_matrix(df_combined[['sulphates','quality']])\n",
    "\n",
    "f4 = plt.gcf()"
   ]
  },
  {
   "cell_type": "code",
   "execution_count": 42,
   "id": "5ae88f9e",
   "metadata": {},
   "outputs": [
    {
     "data": {
      "image/png": "[encoded data removed]",
      "text/plain": [
       "<Figure size 432x288 with 4 Axes>"
      ]
     },
     "metadata": {
      "needs_background": "light"
     },
     "output_type": "display_data"
    }
   ],
   "source": [
    "scatter_matrix(df_combined[['alcohol','quality']])\n",
    "\n",
    "f4 = plt.gcf()"
   ]
  },
  {
   "cell_type": "code",
   "execution_count": 43,
   "id": "671a520b",
   "metadata": {},
   "outputs": [],
   "source": [
    "# Now I am going to want to dive deeper into the data and create a training set."
   ]
  },
  {
   "cell_type": "code",
   "execution_count": 44,
   "id": "df3418c6",
   "metadata": {},
   "outputs": [
    {
     "data": {
      "text/plain": [
       "2558"
      ]
     },
     "execution_count": 44,
     "metadata": {},
     "output_type": "execute_result"
    }
   ],
   "source": [
    "num_training = int(3198*.8)\n",
    "num_training"
   ]
  },
  {
   "cell_type": "code",
   "execution_count": 45,
   "id": "f5026cbe",
   "metadata": {},
   "outputs": [],
   "source": [
    "df_training = df_combined[:num_training]\n",
    "df_testing = df_combined[num_training:]"
   ]
  },
  {
   "cell_type": "code",
   "execution_count": 46,
   "id": "3da4a4e3",
   "metadata": {},
   "outputs": [
    {
     "data": {
      "text/html": [
       "<div>\n",
       "<style scoped>\n",
       "    .dataframe tbody tr th:only-of-type {\n",
       "        vertical-align: middle;\n",
       "    }\n",
       "\n",
       "    .dataframe tbody tr th {\n",
       "        vertical-align: top;\n",
       "    }\n",
       "\n",
       "    .dataframe thead th {\n",
       "        text-align: right;\n",
       "    }\n",
       "</style>\n",
       "<table border=\"1\" class=\"dataframe\">\n",
       "  <thead>\n",
       "    <tr style=\"text-align: right;\">\n",
       "      <th></th>\n",
       "      <th>fixed acidity</th>\n",
       "      <th>volatile acidity</th>\n",
       "      <th>citric acid</th>\n",
       "      <th>residual sugar</th>\n",
       "      <th>chlorides</th>\n",
       "      <th>free sulfur dioxide</th>\n",
       "      <th>total sulfur dioxide</th>\n",
       "      <th>density</th>\n",
       "      <th>pH</th>\n",
       "      <th>sulphates</th>\n",
       "      <th>alcohol</th>\n",
       "      <th>quality</th>\n",
       "    </tr>\n",
       "  </thead>\n",
       "  <tbody>\n",
       "    <tr>\n",
       "      <th>0</th>\n",
       "      <td>7.5</td>\n",
       "      <td>0.270</td>\n",
       "      <td>0.36</td>\n",
       "      <td>7.0</td>\n",
       "      <td>0.036</td>\n",
       "      <td>45.0</td>\n",
       "      <td>164.0</td>\n",
       "      <td>0.99390</td>\n",
       "      <td>3.03</td>\n",
       "      <td>0.33</td>\n",
       "      <td>11.0</td>\n",
       "      <td>5</td>\n",
       "    </tr>\n",
       "    <tr>\n",
       "      <th>1</th>\n",
       "      <td>5.9</td>\n",
       "      <td>0.395</td>\n",
       "      <td>0.13</td>\n",
       "      <td>2.4</td>\n",
       "      <td>0.056</td>\n",
       "      <td>14.0</td>\n",
       "      <td>28.0</td>\n",
       "      <td>0.99362</td>\n",
       "      <td>3.62</td>\n",
       "      <td>0.67</td>\n",
       "      <td>12.4</td>\n",
       "      <td>6</td>\n",
       "    </tr>\n",
       "    <tr>\n",
       "      <th>2</th>\n",
       "      <td>10.2</td>\n",
       "      <td>0.240</td>\n",
       "      <td>0.49</td>\n",
       "      <td>2.4</td>\n",
       "      <td>0.075</td>\n",
       "      <td>10.0</td>\n",
       "      <td>28.0</td>\n",
       "      <td>0.99780</td>\n",
       "      <td>3.14</td>\n",
       "      <td>0.61</td>\n",
       "      <td>10.4</td>\n",
       "      <td>5</td>\n",
       "    </tr>\n",
       "    <tr>\n",
       "      <th>3</th>\n",
       "      <td>8.8</td>\n",
       "      <td>0.550</td>\n",
       "      <td>0.04</td>\n",
       "      <td>2.2</td>\n",
       "      <td>0.119</td>\n",
       "      <td>14.0</td>\n",
       "      <td>56.0</td>\n",
       "      <td>0.99620</td>\n",
       "      <td>3.21</td>\n",
       "      <td>0.60</td>\n",
       "      <td>10.9</td>\n",
       "      <td>6</td>\n",
       "    </tr>\n",
       "    <tr>\n",
       "      <th>4</th>\n",
       "      <td>7.5</td>\n",
       "      <td>0.510</td>\n",
       "      <td>0.02</td>\n",
       "      <td>1.7</td>\n",
       "      <td>0.084</td>\n",
       "      <td>13.0</td>\n",
       "      <td>31.0</td>\n",
       "      <td>0.99538</td>\n",
       "      <td>3.36</td>\n",
       "      <td>0.54</td>\n",
       "      <td>10.5</td>\n",
       "      <td>6</td>\n",
       "    </tr>\n",
       "  </tbody>\n",
       "</table>\n",
       "</div>"
      ],
      "text/plain": [
       "   fixed acidity  volatile acidity  citric acid  residual sugar  chlorides  \\\n",
       "0            7.5             0.270         0.36             7.0      0.036   \n",
       "1            5.9             0.395         0.13             2.4      0.056   \n",
       "2           10.2             0.240         0.49             2.4      0.075   \n",
       "3            8.8             0.550         0.04             2.2      0.119   \n",
       "4            7.5             0.510         0.02             1.7      0.084   \n",
       "\n",
       "   free sulfur dioxide  total sulfur dioxide  density    pH  sulphates  \\\n",
       "0                 45.0                 164.0  0.99390  3.03       0.33   \n",
       "1                 14.0                  28.0  0.99362  3.62       0.67   \n",
       "2                 10.0                  28.0  0.99780  3.14       0.61   \n",
       "3                 14.0                  56.0  0.99620  3.21       0.60   \n",
       "4                 13.0                  31.0  0.99538  3.36       0.54   \n",
       "\n",
       "   alcohol  quality  \n",
       "0     11.0        5  \n",
       "1     12.4        6  \n",
       "2     10.4        5  \n",
       "3     10.9        6  \n",
       "4     10.5        6  "
      ]
     },
     "execution_count": 46,
     "metadata": {},
     "output_type": "execute_result"
    }
   ],
   "source": [
    "df_training[:5]"
   ]
  },
  {
   "cell_type": "code",
   "execution_count": 47,
   "id": "9a32dd79",
   "metadata": {},
   "outputs": [],
   "source": [
    "# The training the above is combined and showing what would happen not specifying a type of wine , red or white."
   ]
  },
  {
   "cell_type": "code",
   "execution_count": 48,
   "id": "7487c103",
   "metadata": {},
   "outputs": [],
   "source": [
    "# This will retun the predicted  quality  for each wine in the data frame \n",
    "\n",
    "def predict_rate(df, inds):\n",
    "    rate_predict = []\n",
    "    for i in inds:\n",
    "        rateMap = {}\n",
    "        rate_mode = 0\n",
    "        for j in i:\n",
    "            curr = df.loc[j, 'quality']\n",
    "            if curr in rateMap.keys():\n",
    "                rateMap[curr]+=1\n",
    "            else: \n",
    "                rateMap[curr] = 1\n",
    "            if rateMap[curr] > rate_mode:\n",
    "                rate_mode = curr\n",
    "        rate_predict.append(rate_mode)\n",
    "    return rate_predict"
   ]
  },
  {
   "cell_type": "code",
   "execution_count": 49,
   "id": "59616d99",
   "metadata": {},
   "outputs": [],
   "source": [
    "# Now we are going to look at the column containing the quality and return any errors\n",
    "\n",
    "def validation(df_after_prediction):\n",
    "    error = 0\n",
    "    num_row = 0\n",
    "    # iterate through each row in df\n",
    "    for idx, row in df_after_prediction.iterrows():\n",
    "        num_row = num_row+1\n",
    "        if not row['quality'] == row['predicted quality']:\n",
    "            error = error+1\n",
    "    errorPercent = error/num_row\n",
    "    #print(errorPercent)\n",
    "    return errorPercent"
   ]
  },
  {
   "cell_type": "code",
   "execution_count": 77,
   "id": "26d97ee1",
   "metadata": {},
   "outputs": [],
   "source": [
    "# This is going to  return the rows wuthout the quality \n",
    "\n",
    "def get_row_list(df):\n",
    "    rows_list=[]\n",
    "    for idx, row in df.iterrows():\n",
    "        curr_row = [row['fixed acidity'],row['volatile acidity'], \n",
    "                    row['citric acid'],row['residual sugar'], \n",
    "                    row['chlorides'], row['free sulfur dioxide'], \n",
    "                    row['total sulfur dioxide'], row['density'], \n",
    "                    row['pH'], row['sulphates'],\n",
    "                    row['alcohol']]\n",
    "        rows_list.append(curr_row) \n",
    "    return rows_list"
   ]
  },
  {
   "cell_type": "code",
   "execution_count": 78,
   "id": "b1d8e50a",
   "metadata": {},
   "outputs": [],
   "source": [
    "# This formula is going to use the training dataframe, the testing dataframe, and the k value, \n",
    "# This will return the result of validation\n",
    "def getErrorPercent(df_training, df_testing, k_value, rows_list, tree):\n",
    "    inds = tree.query(rows_list, k=k_value, return_distance = False)\n",
    "    df_col_pred = predict_rate(df_training, inds)\n",
    "    df_testing['predicted quality'] = df_col_pred\n",
    "    return validation(df_testing)"
   ]
  },
  {
   "cell_type": "code",
   "execution_count": 79,
   "id": "2ef61564",
   "metadata": {},
   "outputs": [],
   "source": [
    "# I choose to use a K-d Tree because it will show organized sample points. There are 11 points correlated to the ingredients. The reason we are not using 12 because the 12th column is the quality which is what we are trying to predict or moreso see if the ingredients predict/have an effect on the quality."
   ]
  },
  {
   "cell_type": "code",
   "execution_count": 80,
   "id": "08dd8af5",
   "metadata": {},
   "outputs": [],
   "source": [
    "# Now to build the K-d Tree"
   ]
  },
  {
   "cell_type": "code",
   "execution_count": 81,
   "id": "51e4adf2",
   "metadata": {},
   "outputs": [],
   "source": [
    "# This will list of rows of the training dataframe\n",
    "rows_list_training = get_row_list(df_training)\n",
    "\n",
    "# The KD Tree will store all of the wines in the training set\n",
    "tree = KDTree(rows_list_training)"
   ]
  },
  {
   "cell_type": "code",
   "execution_count": 82,
   "id": "16e39f6c",
   "metadata": {},
   "outputs": [],
   "source": [
    "# Now we need to see how many number of ingredients/wine  we should query\n",
    "\n"
   ]
  },
  {
   "cell_type": "code",
   "execution_count": 83,
   "id": "0db34358",
   "metadata": {},
   "outputs": [],
   "source": [
    "\n",
    "k_val = np.arange(1, 41, 1)\n",
    "err_val=[]\n",
    "for i in k_val:\n",
    "    df_training_cpy = df_training.copy()\n",
    "    err_val.append(getErrorPercent(df_training, df_training_cpy, \n",
    "                                   i ,rows_list_training, tree))\n",
    "df_err = pd.DataFrame()\n",
    "df_err['k value'] = k_val\n",
    "df_err['error'] = err_val"
   ]
  },
  {
   "cell_type": "code",
   "execution_count": 84,
   "id": "f8bee95b",
   "metadata": {},
   "outputs": [
    {
     "data": {
      "text/html": [
       "<div>\n",
       "<style scoped>\n",
       "    .dataframe tbody tr th:only-of-type {\n",
       "        vertical-align: middle;\n",
       "    }\n",
       "\n",
       "    .dataframe tbody tr th {\n",
       "        vertical-align: top;\n",
       "    }\n",
       "\n",
       "    .dataframe thead th {\n",
       "        text-align: right;\n",
       "    }\n",
       "</style>\n",
       "<table border=\"1\" class=\"dataframe\">\n",
       "  <thead>\n",
       "    <tr style=\"text-align: right;\">\n",
       "      <th></th>\n",
       "      <th>k value</th>\n",
       "      <th>error</th>\n",
       "    </tr>\n",
       "  </thead>\n",
       "  <tbody>\n",
       "    <tr>\n",
       "      <th>0</th>\n",
       "      <td>1</td>\n",
       "      <td>0.000000</td>\n",
       "    </tr>\n",
       "    <tr>\n",
       "      <th>1</th>\n",
       "      <td>2</td>\n",
       "      <td>0.000000</td>\n",
       "    </tr>\n",
       "    <tr>\n",
       "      <th>2</th>\n",
       "      <td>3</td>\n",
       "      <td>0.000000</td>\n",
       "    </tr>\n",
       "    <tr>\n",
       "      <th>3</th>\n",
       "      <td>4</td>\n",
       "      <td>0.000000</td>\n",
       "    </tr>\n",
       "    <tr>\n",
       "      <th>4</th>\n",
       "      <td>5</td>\n",
       "      <td>0.000391</td>\n",
       "    </tr>\n",
       "    <tr>\n",
       "      <th>5</th>\n",
       "      <td>6</td>\n",
       "      <td>0.002346</td>\n",
       "    </tr>\n",
       "    <tr>\n",
       "      <th>6</th>\n",
       "      <td>7</td>\n",
       "      <td>0.011728</td>\n",
       "    </tr>\n",
       "    <tr>\n",
       "      <th>7</th>\n",
       "      <td>8</td>\n",
       "      <td>0.029711</td>\n",
       "    </tr>\n",
       "    <tr>\n",
       "      <th>8</th>\n",
       "      <td>9</td>\n",
       "      <td>0.057858</td>\n",
       "    </tr>\n",
       "    <tr>\n",
       "      <th>9</th>\n",
       "      <td>10</td>\n",
       "      <td>0.094214</td>\n",
       "    </tr>\n",
       "  </tbody>\n",
       "</table>\n",
       "</div>"
      ],
      "text/plain": [
       "   k value     error\n",
       "0        1  0.000000\n",
       "1        2  0.000000\n",
       "2        3  0.000000\n",
       "3        4  0.000000\n",
       "4        5  0.000391\n",
       "5        6  0.002346\n",
       "6        7  0.011728\n",
       "7        8  0.029711\n",
       "8        9  0.057858\n",
       "9       10  0.094214"
      ]
     },
     "execution_count": 84,
     "metadata": {},
     "output_type": "execute_result"
    }
   ],
   "source": [
    "df_err[:10]"
   ]
  },
  {
   "cell_type": "code",
   "execution_count": 85,
   "id": "b3dec846",
   "metadata": {},
   "outputs": [
    {
     "data": {
      "text/plain": [
       "<AxesSubplot:xlabel='k value', ylabel='error'>"
      ]
     },
     "execution_count": 85,
     "metadata": {},
     "output_type": "execute_result"
    },
    {
     "data": {
      "image/png": "[encoded data removed]",
      "text/plain": [
       "<Figure size 432x288 with 1 Axes>"
      ]
     },
     "metadata": {
      "needs_background": "light"
     },
     "output_type": "display_data"
    }
   ],
   "source": [
    "df_err\n",
    "df_err.plot.scatter(x='k value', y='error')"
   ]
  },
  {
   "cell_type": "code",
   "execution_count": 86,
   "id": "2d35e205",
   "metadata": {},
   "outputs": [],
   "source": [
    "# Since the lowest k value is K=3 that is the data point I wil use . The number is also odd this means I do not have to worry about a tie."
   ]
  },
  {
   "cell_type": "code",
   "execution_count": 87,
   "id": "f3b26b83",
   "metadata": {},
   "outputs": [
    {
     "name": "stderr",
     "output_type": "stream",
     "text": [
      "/var/folders/2s/jfg371412_d0h7r1gk_j_n5w0000gn/T/ipykernel_1171/2669437210.py:7: SettingWithCopyWarning: \n",
      "A value is trying to be set on a copy of a slice from a DataFrame.\n",
      "Try using .loc[row_indexer,col_indexer] = value instead\n",
      "\n",
      "See the caveats in the documentation: https://pandas.pydata.org/pandas-docs/stable/user_guide/indexing.html#returning-a-view-versus-a-copy\n",
      "  df_training['predicted quality'] = predict_rate(df_training, inds_k_3_training)\n"
     ]
    }
   ],
   "source": [
    "# This is the list of rows from the trianing dataframe\n",
    "rows_list_training = get_row_list(df_training)\n",
    "\n",
    "inds_k_3_training = tree.query(rows_list_training, k=3, return_distance = False)\n",
    "\n",
    "# Now to look at the predicted quality for wine \n",
    "df_training['predicted quality'] = predict_rate(df_training, inds_k_3_training)"
   ]
  },
  {
   "cell_type": "code",
   "execution_count": 88,
   "id": "5e9fc27a",
   "metadata": {},
   "outputs": [
    {
     "data": {
      "text/html": [
       "<div>\n",
       "<style scoped>\n",
       "    .dataframe tbody tr th:only-of-type {\n",
       "        vertical-align: middle;\n",
       "    }\n",
       "\n",
       "    .dataframe tbody tr th {\n",
       "        vertical-align: top;\n",
       "    }\n",
       "\n",
       "    .dataframe thead th {\n",
       "        text-align: right;\n",
       "    }\n",
       "</style>\n",
       "<table border=\"1\" class=\"dataframe\">\n",
       "  <thead>\n",
       "    <tr style=\"text-align: right;\">\n",
       "      <th></th>\n",
       "      <th>fixed acidity</th>\n",
       "      <th>volatile acidity</th>\n",
       "      <th>citric acid</th>\n",
       "      <th>residual sugar</th>\n",
       "      <th>chlorides</th>\n",
       "      <th>free sulfur dioxide</th>\n",
       "      <th>total sulfur dioxide</th>\n",
       "      <th>density</th>\n",
       "      <th>pH</th>\n",
       "      <th>sulphates</th>\n",
       "      <th>alcohol</th>\n",
       "      <th>quality</th>\n",
       "      <th>predicted quality</th>\n",
       "    </tr>\n",
       "  </thead>\n",
       "  <tbody>\n",
       "    <tr>\n",
       "      <th>0</th>\n",
       "      <td>7.5</td>\n",
       "      <td>0.270</td>\n",
       "      <td>0.36</td>\n",
       "      <td>7.0</td>\n",
       "      <td>0.036</td>\n",
       "      <td>45.0</td>\n",
       "      <td>164.0</td>\n",
       "      <td>0.99390</td>\n",
       "      <td>3.03</td>\n",
       "      <td>0.33</td>\n",
       "      <td>11.0</td>\n",
       "      <td>5</td>\n",
       "      <td>5</td>\n",
       "    </tr>\n",
       "    <tr>\n",
       "      <th>1</th>\n",
       "      <td>5.9</td>\n",
       "      <td>0.395</td>\n",
       "      <td>0.13</td>\n",
       "      <td>2.4</td>\n",
       "      <td>0.056</td>\n",
       "      <td>14.0</td>\n",
       "      <td>28.0</td>\n",
       "      <td>0.99362</td>\n",
       "      <td>3.62</td>\n",
       "      <td>0.67</td>\n",
       "      <td>12.4</td>\n",
       "      <td>6</td>\n",
       "      <td>6</td>\n",
       "    </tr>\n",
       "    <tr>\n",
       "      <th>2</th>\n",
       "      <td>10.2</td>\n",
       "      <td>0.240</td>\n",
       "      <td>0.49</td>\n",
       "      <td>2.4</td>\n",
       "      <td>0.075</td>\n",
       "      <td>10.0</td>\n",
       "      <td>28.0</td>\n",
       "      <td>0.99780</td>\n",
       "      <td>3.14</td>\n",
       "      <td>0.61</td>\n",
       "      <td>10.4</td>\n",
       "      <td>5</td>\n",
       "      <td>5</td>\n",
       "    </tr>\n",
       "    <tr>\n",
       "      <th>3</th>\n",
       "      <td>8.8</td>\n",
       "      <td>0.550</td>\n",
       "      <td>0.04</td>\n",
       "      <td>2.2</td>\n",
       "      <td>0.119</td>\n",
       "      <td>14.0</td>\n",
       "      <td>56.0</td>\n",
       "      <td>0.99620</td>\n",
       "      <td>3.21</td>\n",
       "      <td>0.60</td>\n",
       "      <td>10.9</td>\n",
       "      <td>6</td>\n",
       "      <td>6</td>\n",
       "    </tr>\n",
       "    <tr>\n",
       "      <th>4</th>\n",
       "      <td>7.5</td>\n",
       "      <td>0.510</td>\n",
       "      <td>0.02</td>\n",
       "      <td>1.7</td>\n",
       "      <td>0.084</td>\n",
       "      <td>13.0</td>\n",
       "      <td>31.0</td>\n",
       "      <td>0.99538</td>\n",
       "      <td>3.36</td>\n",
       "      <td>0.54</td>\n",
       "      <td>10.5</td>\n",
       "      <td>6</td>\n",
       "      <td>6</td>\n",
       "    </tr>\n",
       "  </tbody>\n",
       "</table>\n",
       "</div>"
      ],
      "text/plain": [
       "   fixed acidity  volatile acidity  citric acid  residual sugar  chlorides  \\\n",
       "0            7.5             0.270         0.36             7.0      0.036   \n",
       "1            5.9             0.395         0.13             2.4      0.056   \n",
       "2           10.2             0.240         0.49             2.4      0.075   \n",
       "3            8.8             0.550         0.04             2.2      0.119   \n",
       "4            7.5             0.510         0.02             1.7      0.084   \n",
       "\n",
       "   free sulfur dioxide  total sulfur dioxide  density    pH  sulphates  \\\n",
       "0                 45.0                 164.0  0.99390  3.03       0.33   \n",
       "1                 14.0                  28.0  0.99362  3.62       0.67   \n",
       "2                 10.0                  28.0  0.99780  3.14       0.61   \n",
       "3                 14.0                  56.0  0.99620  3.21       0.60   \n",
       "4                 13.0                  31.0  0.99538  3.36       0.54   \n",
       "\n",
       "   alcohol  quality  predicted quality  \n",
       "0     11.0        5                  5  \n",
       "1     12.4        6                  6  \n",
       "2     10.4        5                  5  \n",
       "3     10.9        6                  6  \n",
       "4     10.5        6                  6  "
      ]
     },
     "execution_count": 88,
     "metadata": {},
     "output_type": "execute_result"
    }
   ],
   "source": [
    "df_training[:5]"
   ]
  },
  {
   "cell_type": "code",
   "execution_count": 89,
   "id": "26c5e840",
   "metadata": {},
   "outputs": [],
   "source": [
    "# Now to rule out any errors"
   ]
  },
  {
   "cell_type": "code",
   "execution_count": 97,
   "id": "9687c573",
   "metadata": {},
   "outputs": [
    {
     "name": "stderr",
     "output_type": "stream",
     "text": [
      "/var/folders/2s/jfg371412_d0h7r1gk_j_n5w0000gn/T/ipykernel_1171/2243779053.py:6: SettingWithCopyWarning: \n",
      "A value is trying to be set on a copy of a slice from a DataFrame.\n",
      "Try using .loc[row_indexer,col_indexer] = value instead\n",
      "\n",
      "See the caveats in the documentation: https://pandas.pydata.org/pandas-docs/stable/user_guide/indexing.html#returning-a-view-versus-a-copy\n",
      "  df_testing['predicted quality'] = df_col_pred\n"
     ]
    },
    {
     "data": {
      "text/plain": [
       "0.0"
      ]
     },
     "execution_count": 97,
     "metadata": {},
     "output_type": "execute_result"
    }
   ],
   "source": [
    "error_training = getErrorPercent(df_training, df_training, 3,\n",
    "                                 rows_list_training,tree)\n",
    "error_training"
   ]
  },
  {
   "cell_type": "code",
   "execution_count": null,
   "id": "f187d615",
   "metadata": {},
   "outputs": [],
   "source": [
    "# Now to test the quality of the wine "
   ]
  },
  {
   "cell_type": "code",
   "execution_count": 98,
   "id": "7c2a303e",
   "metadata": {},
   "outputs": [
    {
     "name": "stderr",
     "output_type": "stream",
     "text": [
      "/var/folders/2s/jfg371412_d0h7r1gk_j_n5w0000gn/T/ipykernel_1171/897431575.py:8: SettingWithCopyWarning: \n",
      "A value is trying to be set on a copy of a slice from a DataFrame.\n",
      "Try using .loc[row_indexer,col_indexer] = value instead\n",
      "\n",
      "See the caveats in the documentation: https://pandas.pydata.org/pandas-docs/stable/user_guide/indexing.html#returning-a-view-versus-a-copy\n",
      "  df_testing['predicted quality'] = predict_rate(df_training, inds_k_3_testing)\n"
     ]
    }
   ],
   "source": [
    "#the list of rows in the testing set\n",
    "rows_list_testing = get_row_list(df_testing)\n",
    "\n",
    "#the list of lists of nearest neighbor indices\n",
    "inds_k_3_testing = tree.query(rows_list_testing, k=3, return_distance = False)\n",
    "\n",
    "#the list of predicted quality of each wine\n",
    "df_testing['predicted quality'] = predict_rate(df_training, inds_k_3_testing)"
   ]
  },
  {
   "cell_type": "code",
   "execution_count": 99,
   "id": "e3fceefe",
   "metadata": {},
   "outputs": [
    {
     "data": {
      "text/plain": [
       "0.5046875"
      ]
     },
     "execution_count": 99,
     "metadata": {},
     "output_type": "execute_result"
    }
   ],
   "source": [
    "# Now to test for any errors again \n",
    "err_testing = validation(df_testing)\n",
    "err_testing\n"
   ]
  },
  {
   "cell_type": "code",
   "execution_count": 100,
   "id": "e30112cf",
   "metadata": {},
   "outputs": [],
   "source": [
    "# The above error is showing quite big meaning that this hypothisis / data may not be accurate or enough to predict to quality.\n"
   ]
  },
  {
   "cell_type": "code",
   "execution_count": 101,
   "id": "24169736",
   "metadata": {},
   "outputs": [
    {
     "data": {
      "text/html": [
       "<div>\n",
       "<style scoped>\n",
       "    .dataframe tbody tr th:only-of-type {\n",
       "        vertical-align: middle;\n",
       "    }\n",
       "\n",
       "    .dataframe tbody tr th {\n",
       "        vertical-align: top;\n",
       "    }\n",
       "\n",
       "    .dataframe thead th {\n",
       "        text-align: right;\n",
       "    }\n",
       "</style>\n",
       "<table border=\"1\" class=\"dataframe\">\n",
       "  <thead>\n",
       "    <tr style=\"text-align: right;\">\n",
       "      <th></th>\n",
       "      <th>fixed acidity</th>\n",
       "      <th>volatile acidity</th>\n",
       "      <th>citric acid</th>\n",
       "      <th>residual sugar</th>\n",
       "      <th>chlorides</th>\n",
       "      <th>free sulfur dioxide</th>\n",
       "      <th>total sulfur dioxide</th>\n",
       "      <th>density</th>\n",
       "      <th>pH</th>\n",
       "      <th>sulphates</th>\n",
       "      <th>alcohol</th>\n",
       "      <th>quality</th>\n",
       "      <th>predicted quality</th>\n",
       "    </tr>\n",
       "  </thead>\n",
       "  <tbody>\n",
       "    <tr>\n",
       "      <th>2558</th>\n",
       "      <td>6.9</td>\n",
       "      <td>0.210</td>\n",
       "      <td>0.28</td>\n",
       "      <td>2.40</td>\n",
       "      <td>0.056</td>\n",
       "      <td>49.0</td>\n",
       "      <td>159.0</td>\n",
       "      <td>0.99440</td>\n",
       "      <td>3.02</td>\n",
       "      <td>0.47</td>\n",
       "      <td>8.800000</td>\n",
       "      <td>8</td>\n",
       "      <td>6</td>\n",
       "    </tr>\n",
       "    <tr>\n",
       "      <th>2559</th>\n",
       "      <td>7.8</td>\n",
       "      <td>0.545</td>\n",
       "      <td>0.12</td>\n",
       "      <td>2.50</td>\n",
       "      <td>0.068</td>\n",
       "      <td>11.0</td>\n",
       "      <td>35.0</td>\n",
       "      <td>0.99600</td>\n",
       "      <td>3.34</td>\n",
       "      <td>0.61</td>\n",
       "      <td>11.600000</td>\n",
       "      <td>6</td>\n",
       "      <td>6</td>\n",
       "    </tr>\n",
       "    <tr>\n",
       "      <th>2560</th>\n",
       "      <td>6.7</td>\n",
       "      <td>0.470</td>\n",
       "      <td>0.34</td>\n",
       "      <td>8.90</td>\n",
       "      <td>0.043</td>\n",
       "      <td>31.0</td>\n",
       "      <td>172.0</td>\n",
       "      <td>0.99640</td>\n",
       "      <td>3.22</td>\n",
       "      <td>0.60</td>\n",
       "      <td>9.200000</td>\n",
       "      <td>5</td>\n",
       "      <td>7</td>\n",
       "    </tr>\n",
       "    <tr>\n",
       "      <th>2561</th>\n",
       "      <td>6.3</td>\n",
       "      <td>0.170</td>\n",
       "      <td>0.32</td>\n",
       "      <td>4.20</td>\n",
       "      <td>0.040</td>\n",
       "      <td>37.0</td>\n",
       "      <td>117.0</td>\n",
       "      <td>0.99182</td>\n",
       "      <td>3.24</td>\n",
       "      <td>0.43</td>\n",
       "      <td>11.300000</td>\n",
       "      <td>6</td>\n",
       "      <td>6</td>\n",
       "    </tr>\n",
       "    <tr>\n",
       "      <th>2562</th>\n",
       "      <td>6.6</td>\n",
       "      <td>0.230</td>\n",
       "      <td>0.30</td>\n",
       "      <td>4.60</td>\n",
       "      <td>0.060</td>\n",
       "      <td>29.0</td>\n",
       "      <td>154.0</td>\n",
       "      <td>0.99142</td>\n",
       "      <td>3.23</td>\n",
       "      <td>0.49</td>\n",
       "      <td>12.200000</td>\n",
       "      <td>8</td>\n",
       "      <td>6</td>\n",
       "    </tr>\n",
       "    <tr>\n",
       "      <th>2563</th>\n",
       "      <td>10.4</td>\n",
       "      <td>0.440</td>\n",
       "      <td>0.73</td>\n",
       "      <td>6.55</td>\n",
       "      <td>0.074</td>\n",
       "      <td>38.0</td>\n",
       "      <td>76.0</td>\n",
       "      <td>0.99900</td>\n",
       "      <td>3.17</td>\n",
       "      <td>0.85</td>\n",
       "      <td>12.000000</td>\n",
       "      <td>7</td>\n",
       "      <td>7</td>\n",
       "    </tr>\n",
       "    <tr>\n",
       "      <th>2564</th>\n",
       "      <td>5.7</td>\n",
       "      <td>0.240</td>\n",
       "      <td>0.47</td>\n",
       "      <td>6.30</td>\n",
       "      <td>0.069</td>\n",
       "      <td>35.0</td>\n",
       "      <td>182.0</td>\n",
       "      <td>0.99391</td>\n",
       "      <td>3.11</td>\n",
       "      <td>0.46</td>\n",
       "      <td>9.733333</td>\n",
       "      <td>5</td>\n",
       "      <td>6</td>\n",
       "    </tr>\n",
       "    <tr>\n",
       "      <th>2565</th>\n",
       "      <td>7.0</td>\n",
       "      <td>0.200</td>\n",
       "      <td>0.74</td>\n",
       "      <td>0.80</td>\n",
       "      <td>0.044</td>\n",
       "      <td>19.0</td>\n",
       "      <td>163.0</td>\n",
       "      <td>0.99310</td>\n",
       "      <td>3.46</td>\n",
       "      <td>0.53</td>\n",
       "      <td>10.200000</td>\n",
       "      <td>5</td>\n",
       "      <td>6</td>\n",
       "    </tr>\n",
       "    <tr>\n",
       "      <th>2566</th>\n",
       "      <td>6.6</td>\n",
       "      <td>0.560</td>\n",
       "      <td>0.14</td>\n",
       "      <td>2.40</td>\n",
       "      <td>0.064</td>\n",
       "      <td>13.0</td>\n",
       "      <td>29.0</td>\n",
       "      <td>0.99397</td>\n",
       "      <td>3.42</td>\n",
       "      <td>0.62</td>\n",
       "      <td>11.700000</td>\n",
       "      <td>7</td>\n",
       "      <td>6</td>\n",
       "    </tr>\n",
       "    <tr>\n",
       "      <th>2567</th>\n",
       "      <td>6.1</td>\n",
       "      <td>0.320</td>\n",
       "      <td>0.25</td>\n",
       "      <td>2.30</td>\n",
       "      <td>0.071</td>\n",
       "      <td>23.0</td>\n",
       "      <td>58.0</td>\n",
       "      <td>0.99633</td>\n",
       "      <td>3.42</td>\n",
       "      <td>0.97</td>\n",
       "      <td>10.600000</td>\n",
       "      <td>5</td>\n",
       "      <td>5</td>\n",
       "    </tr>\n",
       "  </tbody>\n",
       "</table>\n",
       "</div>"
      ],
      "text/plain": [
       "      fixed acidity  volatile acidity  citric acid  residual sugar  chlorides  \\\n",
       "2558            6.9             0.210         0.28            2.40      0.056   \n",
       "2559            7.8             0.545         0.12            2.50      0.068   \n",
       "2560            6.7             0.470         0.34            8.90      0.043   \n",
       "2561            6.3             0.170         0.32            4.20      0.040   \n",
       "2562            6.6             0.230         0.30            4.60      0.060   \n",
       "2563           10.4             0.440         0.73            6.55      0.074   \n",
       "2564            5.7             0.240         0.47            6.30      0.069   \n",
       "2565            7.0             0.200         0.74            0.80      0.044   \n",
       "2566            6.6             0.560         0.14            2.40      0.064   \n",
       "2567            6.1             0.320         0.25            2.30      0.071   \n",
       "\n",
       "      free sulfur dioxide  total sulfur dioxide  density    pH  sulphates  \\\n",
       "2558                 49.0                 159.0  0.99440  3.02       0.47   \n",
       "2559                 11.0                  35.0  0.99600  3.34       0.61   \n",
       "2560                 31.0                 172.0  0.99640  3.22       0.60   \n",
       "2561                 37.0                 117.0  0.99182  3.24       0.43   \n",
       "2562                 29.0                 154.0  0.99142  3.23       0.49   \n",
       "2563                 38.0                  76.0  0.99900  3.17       0.85   \n",
       "2564                 35.0                 182.0  0.99391  3.11       0.46   \n",
       "2565                 19.0                 163.0  0.99310  3.46       0.53   \n",
       "2566                 13.0                  29.0  0.99397  3.42       0.62   \n",
       "2567                 23.0                  58.0  0.99633  3.42       0.97   \n",
       "\n",
       "        alcohol  quality  predicted quality  \n",
       "2558   8.800000        8                  6  \n",
       "2559  11.600000        6                  6  \n",
       "2560   9.200000        5                  7  \n",
       "2561  11.300000        6                  6  \n",
       "2562  12.200000        8                  6  \n",
       "2563  12.000000        7                  7  \n",
       "2564   9.733333        5                  6  \n",
       "2565  10.200000        5                  6  \n",
       "2566  11.700000        7                  6  \n",
       "2567  10.600000        5                  5  "
      ]
     },
     "execution_count": 101,
     "metadata": {},
     "output_type": "execute_result"
    }
   ],
   "source": [
    "df_testing[:10]"
   ]
  },
  {
   "cell_type": "code",
   "execution_count": 102,
   "id": "da5725e9",
   "metadata": {},
   "outputs": [],
   "source": [
    "# There is a tad inaccuracy as there are different values for the quality of wines"
   ]
  },
  {
   "cell_type": "code",
   "execution_count": 103,
   "id": "3db0c00e",
   "metadata": {},
   "outputs": [
    {
     "data": {
      "image/png": "[encoded data removed]",
      "text/plain": [
       "<Figure size 1332x756 with 1 Axes>"
      ]
     },
     "metadata": {
      "needs_background": "light"
     },
     "output_type": "display_data"
    }
   ],
   "source": [
    "import matplotlib.pyplot as plt\n",
    "\n",
    "fig = plt.figure()\n",
    "fig.set_size_inches(18.5, 10.5)\n",
    "ax1 = fig.add_subplot(111)\n",
    "\n",
    "ax1.scatter(df_testing.index, df_testing['predicted quality'], \n",
    "            s=10, c='b', marker=\"s\", label='predicted quality')\n",
    "ax1.scatter(df_testing.index, df_testing['quality'], s=10, c='r',\n",
    "            marker=\"o\", label='real quality')\n",
    "plt.legend(loc='upper left')\n",
    "plt.show()"
   ]
  },
  {
   "cell_type": "code",
   "execution_count": 104,
   "id": "c6e1454d",
   "metadata": {},
   "outputs": [],
   "source": [
    "# The scatter plot is also not too helpful in determing the quality of wine since the data seems to be all over the board."
   ]
  },
  {
   "cell_type": "code",
   "execution_count": 107,
   "id": "4622bac6",
   "metadata": {},
   "outputs": [
    {
     "name": "stderr",
     "output_type": "stream",
     "text": [
      "/var/folders/2s/jfg371412_d0h7r1gk_j_n5w0000gn/T/ipykernel_1171/384977470.py:10: SettingWithCopyWarning: \n",
      "A value is trying to be set on a copy of a slice from a DataFrame.\n",
      "Try using .loc[row_indexer,col_indexer] = value instead\n",
      "\n",
      "See the caveats in the documentation: https://pandas.pydata.org/pandas-docs/stable/user_guide/indexing.html#returning-a-view-versus-a-copy\n",
      "  df_testing['rms']=0.0\n"
     ]
    }
   ],
   "source": [
    "# This formula will take in  two values and calculaute their root mean square difference\n",
    "\n",
    "def rmse(pred, tar):\n",
    "    diff = pred - tar                       \n",
    "    diff_sq = diff ** 2                    \n",
    "    mean_diff_sq = diff_sq.mean()  \n",
    "    rmse_val = np.sqrt(mean_diff_sq)          \n",
    "    return rmse_val*1.0\n",
    "\n",
    "df_testing['rms']=0.0\n",
    "for i in df_testing.index:\n",
    "        df_testing.at[i,'rms'] = rmse(df_testing.at[i,'predicted quality'],\n",
    "        df_testing.at[i,'quality'])\n"
   ]
  },
  {
   "cell_type": "code",
   "execution_count": 108,
   "id": "6a245e40",
   "metadata": {},
   "outputs": [
    {
     "data": {
      "text/html": [
       "<div>\n",
       "<style scoped>\n",
       "    .dataframe tbody tr th:only-of-type {\n",
       "        vertical-align: middle;\n",
       "    }\n",
       "\n",
       "    .dataframe tbody tr th {\n",
       "        vertical-align: top;\n",
       "    }\n",
       "\n",
       "    .dataframe thead th {\n",
       "        text-align: right;\n",
       "    }\n",
       "</style>\n",
       "<table border=\"1\" class=\"dataframe\">\n",
       "  <thead>\n",
       "    <tr style=\"text-align: right;\">\n",
       "      <th></th>\n",
       "      <th>fixed acidity</th>\n",
       "      <th>volatile acidity</th>\n",
       "      <th>citric acid</th>\n",
       "      <th>residual sugar</th>\n",
       "      <th>chlorides</th>\n",
       "      <th>free sulfur dioxide</th>\n",
       "      <th>total sulfur dioxide</th>\n",
       "      <th>density</th>\n",
       "      <th>pH</th>\n",
       "      <th>sulphates</th>\n",
       "      <th>alcohol</th>\n",
       "      <th>quality</th>\n",
       "      <th>predicted quality</th>\n",
       "      <th>rms</th>\n",
       "    </tr>\n",
       "  </thead>\n",
       "  <tbody>\n",
       "    <tr>\n",
       "      <th>2558</th>\n",
       "      <td>6.9</td>\n",
       "      <td>0.210</td>\n",
       "      <td>0.28</td>\n",
       "      <td>2.40</td>\n",
       "      <td>0.056</td>\n",
       "      <td>49.0</td>\n",
       "      <td>159.0</td>\n",
       "      <td>0.99440</td>\n",
       "      <td>3.02</td>\n",
       "      <td>0.47</td>\n",
       "      <td>8.800000</td>\n",
       "      <td>8</td>\n",
       "      <td>6</td>\n",
       "      <td>2.0</td>\n",
       "    </tr>\n",
       "    <tr>\n",
       "      <th>2559</th>\n",
       "      <td>7.8</td>\n",
       "      <td>0.545</td>\n",
       "      <td>0.12</td>\n",
       "      <td>2.50</td>\n",
       "      <td>0.068</td>\n",
       "      <td>11.0</td>\n",
       "      <td>35.0</td>\n",
       "      <td>0.99600</td>\n",
       "      <td>3.34</td>\n",
       "      <td>0.61</td>\n",
       "      <td>11.600000</td>\n",
       "      <td>6</td>\n",
       "      <td>6</td>\n",
       "      <td>0.0</td>\n",
       "    </tr>\n",
       "    <tr>\n",
       "      <th>2560</th>\n",
       "      <td>6.7</td>\n",
       "      <td>0.470</td>\n",
       "      <td>0.34</td>\n",
       "      <td>8.90</td>\n",
       "      <td>0.043</td>\n",
       "      <td>31.0</td>\n",
       "      <td>172.0</td>\n",
       "      <td>0.99640</td>\n",
       "      <td>3.22</td>\n",
       "      <td>0.60</td>\n",
       "      <td>9.200000</td>\n",
       "      <td>5</td>\n",
       "      <td>7</td>\n",
       "      <td>2.0</td>\n",
       "    </tr>\n",
       "    <tr>\n",
       "      <th>2561</th>\n",
       "      <td>6.3</td>\n",
       "      <td>0.170</td>\n",
       "      <td>0.32</td>\n",
       "      <td>4.20</td>\n",
       "      <td>0.040</td>\n",
       "      <td>37.0</td>\n",
       "      <td>117.0</td>\n",
       "      <td>0.99182</td>\n",
       "      <td>3.24</td>\n",
       "      <td>0.43</td>\n",
       "      <td>11.300000</td>\n",
       "      <td>6</td>\n",
       "      <td>6</td>\n",
       "      <td>0.0</td>\n",
       "    </tr>\n",
       "    <tr>\n",
       "      <th>2562</th>\n",
       "      <td>6.6</td>\n",
       "      <td>0.230</td>\n",
       "      <td>0.30</td>\n",
       "      <td>4.60</td>\n",
       "      <td>0.060</td>\n",
       "      <td>29.0</td>\n",
       "      <td>154.0</td>\n",
       "      <td>0.99142</td>\n",
       "      <td>3.23</td>\n",
       "      <td>0.49</td>\n",
       "      <td>12.200000</td>\n",
       "      <td>8</td>\n",
       "      <td>6</td>\n",
       "      <td>2.0</td>\n",
       "    </tr>\n",
       "    <tr>\n",
       "      <th>2563</th>\n",
       "      <td>10.4</td>\n",
       "      <td>0.440</td>\n",
       "      <td>0.73</td>\n",
       "      <td>6.55</td>\n",
       "      <td>0.074</td>\n",
       "      <td>38.0</td>\n",
       "      <td>76.0</td>\n",
       "      <td>0.99900</td>\n",
       "      <td>3.17</td>\n",
       "      <td>0.85</td>\n",
       "      <td>12.000000</td>\n",
       "      <td>7</td>\n",
       "      <td>7</td>\n",
       "      <td>0.0</td>\n",
       "    </tr>\n",
       "    <tr>\n",
       "      <th>2564</th>\n",
       "      <td>5.7</td>\n",
       "      <td>0.240</td>\n",
       "      <td>0.47</td>\n",
       "      <td>6.30</td>\n",
       "      <td>0.069</td>\n",
       "      <td>35.0</td>\n",
       "      <td>182.0</td>\n",
       "      <td>0.99391</td>\n",
       "      <td>3.11</td>\n",
       "      <td>0.46</td>\n",
       "      <td>9.733333</td>\n",
       "      <td>5</td>\n",
       "      <td>6</td>\n",
       "      <td>1.0</td>\n",
       "    </tr>\n",
       "    <tr>\n",
       "      <th>2565</th>\n",
       "      <td>7.0</td>\n",
       "      <td>0.200</td>\n",
       "      <td>0.74</td>\n",
       "      <td>0.80</td>\n",
       "      <td>0.044</td>\n",
       "      <td>19.0</td>\n",
       "      <td>163.0</td>\n",
       "      <td>0.99310</td>\n",
       "      <td>3.46</td>\n",
       "      <td>0.53</td>\n",
       "      <td>10.200000</td>\n",
       "      <td>5</td>\n",
       "      <td>6</td>\n",
       "      <td>1.0</td>\n",
       "    </tr>\n",
       "    <tr>\n",
       "      <th>2566</th>\n",
       "      <td>6.6</td>\n",
       "      <td>0.560</td>\n",
       "      <td>0.14</td>\n",
       "      <td>2.40</td>\n",
       "      <td>0.064</td>\n",
       "      <td>13.0</td>\n",
       "      <td>29.0</td>\n",
       "      <td>0.99397</td>\n",
       "      <td>3.42</td>\n",
       "      <td>0.62</td>\n",
       "      <td>11.700000</td>\n",
       "      <td>7</td>\n",
       "      <td>6</td>\n",
       "      <td>1.0</td>\n",
       "    </tr>\n",
       "    <tr>\n",
       "      <th>2567</th>\n",
       "      <td>6.1</td>\n",
       "      <td>0.320</td>\n",
       "      <td>0.25</td>\n",
       "      <td>2.30</td>\n",
       "      <td>0.071</td>\n",
       "      <td>23.0</td>\n",
       "      <td>58.0</td>\n",
       "      <td>0.99633</td>\n",
       "      <td>3.42</td>\n",
       "      <td>0.97</td>\n",
       "      <td>10.600000</td>\n",
       "      <td>5</td>\n",
       "      <td>5</td>\n",
       "      <td>0.0</td>\n",
       "    </tr>\n",
       "  </tbody>\n",
       "</table>\n",
       "</div>"
      ],
      "text/plain": [
       "      fixed acidity  volatile acidity  citric acid  residual sugar  chlorides  \\\n",
       "2558            6.9             0.210         0.28            2.40      0.056   \n",
       "2559            7.8             0.545         0.12            2.50      0.068   \n",
       "2560            6.7             0.470         0.34            8.90      0.043   \n",
       "2561            6.3             0.170         0.32            4.20      0.040   \n",
       "2562            6.6             0.230         0.30            4.60      0.060   \n",
       "2563           10.4             0.440         0.73            6.55      0.074   \n",
       "2564            5.7             0.240         0.47            6.30      0.069   \n",
       "2565            7.0             0.200         0.74            0.80      0.044   \n",
       "2566            6.6             0.560         0.14            2.40      0.064   \n",
       "2567            6.1             0.320         0.25            2.30      0.071   \n",
       "\n",
       "      free sulfur dioxide  total sulfur dioxide  density    pH  sulphates  \\\n",
       "2558                 49.0                 159.0  0.99440  3.02       0.47   \n",
       "2559                 11.0                  35.0  0.99600  3.34       0.61   \n",
       "2560                 31.0                 172.0  0.99640  3.22       0.60   \n",
       "2561                 37.0                 117.0  0.99182  3.24       0.43   \n",
       "2562                 29.0                 154.0  0.99142  3.23       0.49   \n",
       "2563                 38.0                  76.0  0.99900  3.17       0.85   \n",
       "2564                 35.0                 182.0  0.99391  3.11       0.46   \n",
       "2565                 19.0                 163.0  0.99310  3.46       0.53   \n",
       "2566                 13.0                  29.0  0.99397  3.42       0.62   \n",
       "2567                 23.0                  58.0  0.99633  3.42       0.97   \n",
       "\n",
       "        alcohol  quality  predicted quality  rms  \n",
       "2558   8.800000        8                  6  2.0  \n",
       "2559  11.600000        6                  6  0.0  \n",
       "2560   9.200000        5                  7  2.0  \n",
       "2561  11.300000        6                  6  0.0  \n",
       "2562  12.200000        8                  6  2.0  \n",
       "2563  12.000000        7                  7  0.0  \n",
       "2564   9.733333        5                  6  1.0  \n",
       "2565  10.200000        5                  6  1.0  \n",
       "2566  11.700000        7                  6  1.0  \n",
       "2567  10.600000        5                  5  0.0  "
      ]
     },
     "execution_count": 108,
     "metadata": {},
     "output_type": "execute_result"
    }
   ],
   "source": [
    "df_testing[:10]\n"
   ]
  },
  {
   "cell_type": "code",
   "execution_count": 109,
   "id": "cb636a47",
   "metadata": {},
   "outputs": [
    {
     "data": {
      "text/plain": [
       "<AxesSubplot:ylabel='Frequency'>"
      ]
     },
     "execution_count": 109,
     "metadata": {},
     "output_type": "execute_result"
    },
    {
     "data": {
      "image/png": "[encoded data removed]",
      "text/plain": [
       "<Figure size 432x288 with 1 Axes>"
      ]
     },
     "metadata": {
      "needs_background": "light"
     },
     "output_type": "display_data"
    }
   ],
   "source": [
    "df_testing['rms'].plot.hist()"
   ]
  },
  {
   "cell_type": "code",
   "execution_count": null,
   "id": "7f3bff24",
   "metadata": {},
   "outputs": [],
   "source": []
  }
 ],
 "metadata": {
  "kernelspec": {
   "display_name": "Python 3 (ipykernel)",
   "language": "python",
   "name": "python3"
  },
  "language_info": {
   "codemirror_mode": {
    "name": "ipython",
    "version": 3
   },
   "file_extension": ".py",
   "mimetype": "text/x-python",
   "name": "python",
   "nbconvert_exporter": "python",
   "pygments_lexer": "ipython3",
   "version": "3.9.12"
  },
  "vscode": {
   "interpreter": {
    "hash": "31f2aee4e71d21fbe5cf8b01ff0e069b9275f58929596ceb00d14d90e3e16cd6"
   }
  }
 },
 "nbformat": 4,
 "nbformat_minor": 5
}
