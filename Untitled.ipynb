{
 "cells": [
  {
   "cell_type": "code",
   "execution_count": 21,
   "id": "cc95ca61",
   "metadata": {},
   "outputs": [],
   "source": [
    "import pandas as pd\n",
    "import numpy as np\n",
    "import pylab\n",
    "import requests\n",
    "import bs4\n",
    "from bs4 import BeautifulSoup\n",
    "import matplotlib.pyplot as plt\n",
    "from sklearn.neighbors import KDTree\n",
    "from sklearn.utils import shuffle\n",
    "from pandas.plotting import scatter_matrix\n"
   ]
  },
  {
   "cell_type": "code",
   "execution_count": 13,
   "id": "6c945d86",
   "metadata": {},
   "outputs": [
    {
     "name": "stdout",
     "output_type": "stream",
     "text": [
      "['fixed acidity' 'volatile acidity' 'citric acid' 'residual sugar'\n",
      " 'chlorides' 'free sulfur dioxide' 'total sulfur dioxide' 'density' 'pH'\n",
      " 'sulphates' 'alcohol' 'quality']\n"
     ]
    }
   ],
   "source": [
    "#Here we import the two datasets that we will be usiing in our final project\n",
    "df_red = pd.read_csv('WinequalityRed.csv')\n",
    "df_white = pd.read_csv('WinequalityWhite.csv')\n",
    "\n",
    "# print out the column names\n",
    "print(red.columns.values)"
   ]
  },
  {
   "cell_type": "code",
   "execution_count": 14,
   "id": "7c29d5c5",
   "metadata": {},
   "outputs": [
    {
     "data": {
      "text/html": [
       "<div>\n",
       "<style scoped>\n",
       "    .dataframe tbody tr th:only-of-type {\n",
       "        vertical-align: middle;\n",
       "    }\n",
       "\n",
       "    .dataframe tbody tr th {\n",
       "        vertical-align: top;\n",
       "    }\n",
       "\n",
       "    .dataframe thead th {\n",
       "        text-align: right;\n",
       "    }\n",
       "</style>\n",
       "<table border=\"1\" class=\"dataframe\">\n",
       "  <thead>\n",
       "    <tr style=\"text-align: right;\">\n",
       "      <th></th>\n",
       "      <th>fixed acidity</th>\n",
       "      <th>volatile acidity</th>\n",
       "      <th>citric acid</th>\n",
       "      <th>residual sugar</th>\n",
       "      <th>chlorides</th>\n",
       "      <th>free sulfur dioxide</th>\n",
       "      <th>total sulfur dioxide</th>\n",
       "      <th>density</th>\n",
       "      <th>pH</th>\n",
       "      <th>sulphates</th>\n",
       "      <th>alcohol</th>\n",
       "      <th>quality</th>\n",
       "    </tr>\n",
       "  </thead>\n",
       "  <tbody>\n",
       "    <tr>\n",
       "      <th>0</th>\n",
       "      <td>7.4</td>\n",
       "      <td>0.70</td>\n",
       "      <td>0.00</td>\n",
       "      <td>1.9</td>\n",
       "      <td>0.076</td>\n",
       "      <td>11.0</td>\n",
       "      <td>34.0</td>\n",
       "      <td>0.9978</td>\n",
       "      <td>3.51</td>\n",
       "      <td>0.56</td>\n",
       "      <td>9.4</td>\n",
       "      <td>5</td>\n",
       "    </tr>\n",
       "    <tr>\n",
       "      <th>1</th>\n",
       "      <td>7.8</td>\n",
       "      <td>0.88</td>\n",
       "      <td>0.00</td>\n",
       "      <td>2.6</td>\n",
       "      <td>0.098</td>\n",
       "      <td>25.0</td>\n",
       "      <td>67.0</td>\n",
       "      <td>0.9968</td>\n",
       "      <td>3.20</td>\n",
       "      <td>0.68</td>\n",
       "      <td>9.8</td>\n",
       "      <td>5</td>\n",
       "    </tr>\n",
       "    <tr>\n",
       "      <th>2</th>\n",
       "      <td>7.8</td>\n",
       "      <td>0.76</td>\n",
       "      <td>0.04</td>\n",
       "      <td>2.3</td>\n",
       "      <td>0.092</td>\n",
       "      <td>15.0</td>\n",
       "      <td>54.0</td>\n",
       "      <td>0.9970</td>\n",
       "      <td>3.26</td>\n",
       "      <td>0.65</td>\n",
       "      <td>9.8</td>\n",
       "      <td>5</td>\n",
       "    </tr>\n",
       "    <tr>\n",
       "      <th>3</th>\n",
       "      <td>11.2</td>\n",
       "      <td>0.28</td>\n",
       "      <td>0.56</td>\n",
       "      <td>1.9</td>\n",
       "      <td>0.075</td>\n",
       "      <td>17.0</td>\n",
       "      <td>60.0</td>\n",
       "      <td>0.9980</td>\n",
       "      <td>3.16</td>\n",
       "      <td>0.58</td>\n",
       "      <td>9.8</td>\n",
       "      <td>6</td>\n",
       "    </tr>\n",
       "    <tr>\n",
       "      <th>4</th>\n",
       "      <td>7.4</td>\n",
       "      <td>0.70</td>\n",
       "      <td>0.00</td>\n",
       "      <td>1.9</td>\n",
       "      <td>0.076</td>\n",
       "      <td>11.0</td>\n",
       "      <td>34.0</td>\n",
       "      <td>0.9978</td>\n",
       "      <td>3.51</td>\n",
       "      <td>0.56</td>\n",
       "      <td>9.4</td>\n",
       "      <td>5</td>\n",
       "    </tr>\n",
       "  </tbody>\n",
       "</table>\n",
       "</div>"
      ],
      "text/plain": [
       "   fixed acidity  volatile acidity  citric acid  residual sugar  chlorides  \\\n",
       "0            7.4              0.70         0.00             1.9      0.076   \n",
       "1            7.8              0.88         0.00             2.6      0.098   \n",
       "2            7.8              0.76         0.04             2.3      0.092   \n",
       "3           11.2              0.28         0.56             1.9      0.075   \n",
       "4            7.4              0.70         0.00             1.9      0.076   \n",
       "\n",
       "   free sulfur dioxide  total sulfur dioxide  density    pH  sulphates  \\\n",
       "0                 11.0                  34.0   0.9978  3.51       0.56   \n",
       "1                 25.0                  67.0   0.9968  3.20       0.68   \n",
       "2                 15.0                  54.0   0.9970  3.26       0.65   \n",
       "3                 17.0                  60.0   0.9980  3.16       0.58   \n",
       "4                 11.0                  34.0   0.9978  3.51       0.56   \n",
       "\n",
       "   alcohol  quality  \n",
       "0      9.4        5  \n",
       "1      9.8        5  \n",
       "2      9.8        5  \n",
       "3      9.8        6  \n",
       "4      9.4        5  "
      ]
     },
     "execution_count": 14,
     "metadata": {},
     "output_type": "execute_result"
    }
   ],
   "source": [
    "df_red[:5]"
   ]
  },
  {
   "cell_type": "code",
   "execution_count": 15,
   "id": "93051234",
   "metadata": {},
   "outputs": [
    {
     "data": {
      "text/plain": [
       "(1599, 12)"
      ]
     },
     "execution_count": 15,
     "metadata": {},
     "output_type": "execute_result"
    }
   ],
   "source": [
    "df_red.shape\n"
   ]
  },
  {
   "cell_type": "code",
   "execution_count": 16,
   "id": "4544dbe4",
   "metadata": {},
   "outputs": [
    {
     "data": {
      "text/html": [
       "<div>\n",
       "<style scoped>\n",
       "    .dataframe tbody tr th:only-of-type {\n",
       "        vertical-align: middle;\n",
       "    }\n",
       "\n",
       "    .dataframe tbody tr th {\n",
       "        vertical-align: top;\n",
       "    }\n",
       "\n",
       "    .dataframe thead th {\n",
       "        text-align: right;\n",
       "    }\n",
       "</style>\n",
       "<table border=\"1\" class=\"dataframe\">\n",
       "  <thead>\n",
       "    <tr style=\"text-align: right;\">\n",
       "      <th></th>\n",
       "      <th>fixed acidity</th>\n",
       "      <th>volatile acidity</th>\n",
       "      <th>citric acid</th>\n",
       "      <th>residual sugar</th>\n",
       "      <th>chlorides</th>\n",
       "      <th>free sulfur dioxide</th>\n",
       "      <th>total sulfur dioxide</th>\n",
       "      <th>density</th>\n",
       "      <th>pH</th>\n",
       "      <th>sulphates</th>\n",
       "      <th>alcohol</th>\n",
       "      <th>quality</th>\n",
       "    </tr>\n",
       "  </thead>\n",
       "  <tbody>\n",
       "    <tr>\n",
       "      <th>0</th>\n",
       "      <td>7.0</td>\n",
       "      <td>0.27</td>\n",
       "      <td>0.36</td>\n",
       "      <td>20.7</td>\n",
       "      <td>0.045</td>\n",
       "      <td>45.0</td>\n",
       "      <td>170.0</td>\n",
       "      <td>1.0010</td>\n",
       "      <td>3.00</td>\n",
       "      <td>0.45</td>\n",
       "      <td>8.8</td>\n",
       "      <td>6</td>\n",
       "    </tr>\n",
       "    <tr>\n",
       "      <th>1</th>\n",
       "      <td>6.3</td>\n",
       "      <td>0.30</td>\n",
       "      <td>0.34</td>\n",
       "      <td>1.6</td>\n",
       "      <td>0.049</td>\n",
       "      <td>14.0</td>\n",
       "      <td>132.0</td>\n",
       "      <td>0.9940</td>\n",
       "      <td>3.30</td>\n",
       "      <td>0.49</td>\n",
       "      <td>9.5</td>\n",
       "      <td>6</td>\n",
       "    </tr>\n",
       "    <tr>\n",
       "      <th>2</th>\n",
       "      <td>8.1</td>\n",
       "      <td>0.28</td>\n",
       "      <td>0.40</td>\n",
       "      <td>6.9</td>\n",
       "      <td>0.050</td>\n",
       "      <td>30.0</td>\n",
       "      <td>97.0</td>\n",
       "      <td>0.9951</td>\n",
       "      <td>3.26</td>\n",
       "      <td>0.44</td>\n",
       "      <td>10.1</td>\n",
       "      <td>6</td>\n",
       "    </tr>\n",
       "    <tr>\n",
       "      <th>3</th>\n",
       "      <td>7.2</td>\n",
       "      <td>0.23</td>\n",
       "      <td>0.32</td>\n",
       "      <td>8.5</td>\n",
       "      <td>0.058</td>\n",
       "      <td>47.0</td>\n",
       "      <td>186.0</td>\n",
       "      <td>0.9956</td>\n",
       "      <td>3.19</td>\n",
       "      <td>0.40</td>\n",
       "      <td>9.9</td>\n",
       "      <td>6</td>\n",
       "    </tr>\n",
       "    <tr>\n",
       "      <th>4</th>\n",
       "      <td>7.2</td>\n",
       "      <td>0.23</td>\n",
       "      <td>0.32</td>\n",
       "      <td>8.5</td>\n",
       "      <td>0.058</td>\n",
       "      <td>47.0</td>\n",
       "      <td>186.0</td>\n",
       "      <td>0.9956</td>\n",
       "      <td>3.19</td>\n",
       "      <td>0.40</td>\n",
       "      <td>9.9</td>\n",
       "      <td>6</td>\n",
       "    </tr>\n",
       "  </tbody>\n",
       "</table>\n",
       "</div>"
      ],
      "text/plain": [
       "   fixed acidity  volatile acidity  citric acid  residual sugar  chlorides  \\\n",
       "0            7.0              0.27         0.36            20.7      0.045   \n",
       "1            6.3              0.30         0.34             1.6      0.049   \n",
       "2            8.1              0.28         0.40             6.9      0.050   \n",
       "3            7.2              0.23         0.32             8.5      0.058   \n",
       "4            7.2              0.23         0.32             8.5      0.058   \n",
       "\n",
       "   free sulfur dioxide  total sulfur dioxide  density    pH  sulphates  \\\n",
       "0                 45.0                 170.0   1.0010  3.00       0.45   \n",
       "1                 14.0                 132.0   0.9940  3.30       0.49   \n",
       "2                 30.0                  97.0   0.9951  3.26       0.44   \n",
       "3                 47.0                 186.0   0.9956  3.19       0.40   \n",
       "4                 47.0                 186.0   0.9956  3.19       0.40   \n",
       "\n",
       "   alcohol  quality  \n",
       "0      8.8        6  \n",
       "1      9.5        6  \n",
       "2     10.1        6  \n",
       "3      9.9        6  \n",
       "4      9.9        6  "
      ]
     },
     "execution_count": 16,
     "metadata": {},
     "output_type": "execute_result"
    }
   ],
   "source": [
    "df_white[:5]\n",
    "\n"
   ]
  },
  {
   "cell_type": "code",
   "execution_count": 17,
   "id": "b4565da2",
   "metadata": {},
   "outputs": [
    {
     "data": {
      "text/plain": [
       "(4898, 12)"
      ]
     },
     "execution_count": 17,
     "metadata": {},
     "output_type": "execute_result"
    }
   ],
   "source": [
    "df_white.shape"
   ]
  },
  {
   "cell_type": "code",
   "execution_count": 18,
   "id": "07635816",
   "metadata": {},
   "outputs": [],
   "source": [
    "# To make sure there are no missing values to interfere with the data we want to drop any null or missing values."
   ]
  },
  {
   "cell_type": "code",
   "execution_count": 19,
   "id": "e4233779",
   "metadata": {},
   "outputs": [],
   "source": [
    "df_white = df_white.dropna()\n",
    "df_red=df_red.dropna()"
   ]
  },
  {
   "cell_type": "code",
   "execution_count": 20,
   "id": "14d90cf0",
   "metadata": {},
   "outputs": [],
   "source": [
    "# Now we want to dive into my data and look at the quality and ingredients . First we need to make the dataset even since there are more values/rows for white wine than red."
   ]
  },
  {
   "cell_type": "code",
   "execution_count": 21,
   "id": "8549cbeb",
   "metadata": {},
   "outputs": [],
   "source": [
    "df_white = shuffle(df_white).reset_index(drop = True)\n",
    "\n",
    "df_white = df_white[:1599]"
   ]
  },
  {
   "cell_type": "code",
   "execution_count": 22,
   "id": "b5fb93af",
   "metadata": {},
   "outputs": [],
   "source": [
    "# Now to combine the sets"
   ]
  },
  {
   "cell_type": "code",
   "execution_count": 23,
   "id": "ab40a1dc",
   "metadata": {},
   "outputs": [
    {
     "name": "stderr",
     "output_type": "stream",
     "text": [
      "/var/folders/2s/jfg371412_d0h7r1gk_j_n5w0000gn/T/ipykernel_42817/3213958410.py:1: FutureWarning: The frame.append method is deprecated and will be removed from pandas in a future version. Use pandas.concat instead.\n",
      "  df_combined = df_red.append(df_white, ignore_index =True)\n"
     ]
    }
   ],
   "source": [
    "df_combined = df_red.append(df_white, ignore_index =True)\n",
    "df_combined = shuffle(df_combined)\n",
    "df_combined = df_combined.reset_index(drop=True)\n"
   ]
  },
  {
   "cell_type": "code",
   "execution_count": 24,
   "id": "f981cbd4",
   "metadata": {},
   "outputs": [
    {
     "data": {
      "text/plain": [
       "(3198, 12)"
      ]
     },
     "execution_count": 24,
     "metadata": {},
     "output_type": "execute_result"
    }
   ],
   "source": [
    "df_combined.shape"
   ]
  },
  {
   "cell_type": "code",
   "execution_count": 25,
   "id": "57d5b4c9",
   "metadata": {},
   "outputs": [
    {
     "data": {
      "text/html": [
       "<div>\n",
       "<style scoped>\n",
       "    .dataframe tbody tr th:only-of-type {\n",
       "        vertical-align: middle;\n",
       "    }\n",
       "\n",
       "    .dataframe tbody tr th {\n",
       "        vertical-align: top;\n",
       "    }\n",
       "\n",
       "    .dataframe thead th {\n",
       "        text-align: right;\n",
       "    }\n",
       "</style>\n",
       "<table border=\"1\" class=\"dataframe\">\n",
       "  <thead>\n",
       "    <tr style=\"text-align: right;\">\n",
       "      <th></th>\n",
       "      <th>fixed acidity</th>\n",
       "      <th>volatile acidity</th>\n",
       "      <th>citric acid</th>\n",
       "      <th>residual sugar</th>\n",
       "      <th>chlorides</th>\n",
       "      <th>free sulfur dioxide</th>\n",
       "      <th>total sulfur dioxide</th>\n",
       "      <th>density</th>\n",
       "      <th>pH</th>\n",
       "      <th>sulphates</th>\n",
       "      <th>alcohol</th>\n",
       "      <th>quality</th>\n",
       "    </tr>\n",
       "  </thead>\n",
       "  <tbody>\n",
       "    <tr>\n",
       "      <th>count</th>\n",
       "      <td>3198.000000</td>\n",
       "      <td>3198.000000</td>\n",
       "      <td>3198.000000</td>\n",
       "      <td>3198.000000</td>\n",
       "      <td>3198.00000</td>\n",
       "      <td>3198.000000</td>\n",
       "      <td>3198.000000</td>\n",
       "      <td>3198.000000</td>\n",
       "      <td>3198.000000</td>\n",
       "      <td>3198.000000</td>\n",
       "      <td>3198.000000</td>\n",
       "      <td>3198.000000</td>\n",
       "    </tr>\n",
       "    <tr>\n",
       "      <th>mean</th>\n",
       "      <td>7.579096</td>\n",
       "      <td>0.404178</td>\n",
       "      <td>0.303327</td>\n",
       "      <td>4.416682</td>\n",
       "      <td>0.06658</td>\n",
       "      <td>25.738587</td>\n",
       "      <td>92.224046</td>\n",
       "      <td>0.995343</td>\n",
       "      <td>3.249181</td>\n",
       "      <td>0.573687</td>\n",
       "      <td>10.481907</td>\n",
       "      <td>5.771420</td>\n",
       "    </tr>\n",
       "    <tr>\n",
       "      <th>std</th>\n",
       "      <td>1.551001</td>\n",
       "      <td>0.190165</td>\n",
       "      <td>0.166257</td>\n",
       "      <td>4.111087</td>\n",
       "      <td>0.04253</td>\n",
       "      <td>17.024665</td>\n",
       "      <td>59.063027</td>\n",
       "      <td>0.002843</td>\n",
       "      <td>0.164018</td>\n",
       "      <td>0.168251</td>\n",
       "      <td>1.159476</td>\n",
       "      <td>0.862072</td>\n",
       "    </tr>\n",
       "    <tr>\n",
       "      <th>min</th>\n",
       "      <td>4.400000</td>\n",
       "      <td>0.090000</td>\n",
       "      <td>0.000000</td>\n",
       "      <td>0.600000</td>\n",
       "      <td>0.01200</td>\n",
       "      <td>1.000000</td>\n",
       "      <td>6.000000</td>\n",
       "      <td>0.987420</td>\n",
       "      <td>2.720000</td>\n",
       "      <td>0.250000</td>\n",
       "      <td>8.400000</td>\n",
       "      <td>3.000000</td>\n",
       "    </tr>\n",
       "    <tr>\n",
       "      <th>25%</th>\n",
       "      <td>6.600000</td>\n",
       "      <td>0.260000</td>\n",
       "      <td>0.210000</td>\n",
       "      <td>1.900000</td>\n",
       "      <td>0.04200</td>\n",
       "      <td>12.000000</td>\n",
       "      <td>38.000000</td>\n",
       "      <td>0.993340</td>\n",
       "      <td>3.140000</td>\n",
       "      <td>0.460000</td>\n",
       "      <td>9.500000</td>\n",
       "      <td>5.000000</td>\n",
       "    </tr>\n",
       "    <tr>\n",
       "      <th>50%</th>\n",
       "      <td>7.200000</td>\n",
       "      <td>0.350000</td>\n",
       "      <td>0.300000</td>\n",
       "      <td>2.400000</td>\n",
       "      <td>0.05900</td>\n",
       "      <td>23.000000</td>\n",
       "      <td>90.000000</td>\n",
       "      <td>0.995725</td>\n",
       "      <td>3.245000</td>\n",
       "      <td>0.550000</td>\n",
       "      <td>10.300000</td>\n",
       "      <td>6.000000</td>\n",
       "    </tr>\n",
       "    <tr>\n",
       "      <th>75%</th>\n",
       "      <td>8.200000</td>\n",
       "      <td>0.530000</td>\n",
       "      <td>0.400000</td>\n",
       "      <td>5.700000</td>\n",
       "      <td>0.08000</td>\n",
       "      <td>36.000000</td>\n",
       "      <td>136.000000</td>\n",
       "      <td>0.997380</td>\n",
       "      <td>3.360000</td>\n",
       "      <td>0.650000</td>\n",
       "      <td>11.300000</td>\n",
       "      <td>6.000000</td>\n",
       "    </tr>\n",
       "    <tr>\n",
       "      <th>max</th>\n",
       "      <td>15.900000</td>\n",
       "      <td>1.580000</td>\n",
       "      <td>1.660000</td>\n",
       "      <td>31.600000</td>\n",
       "      <td>0.61100</td>\n",
       "      <td>131.000000</td>\n",
       "      <td>313.000000</td>\n",
       "      <td>1.010300</td>\n",
       "      <td>4.010000</td>\n",
       "      <td>2.000000</td>\n",
       "      <td>14.900000</td>\n",
       "      <td>9.000000</td>\n",
       "    </tr>\n",
       "  </tbody>\n",
       "</table>\n",
       "</div>"
      ],
      "text/plain": [
       "       fixed acidity  volatile acidity  citric acid  residual sugar  \\\n",
       "count    3198.000000       3198.000000  3198.000000     3198.000000   \n",
       "mean        7.579096          0.404178     0.303327        4.416682   \n",
       "std         1.551001          0.190165     0.166257        4.111087   \n",
       "min         4.400000          0.090000     0.000000        0.600000   \n",
       "25%         6.600000          0.260000     0.210000        1.900000   \n",
       "50%         7.200000          0.350000     0.300000        2.400000   \n",
       "75%         8.200000          0.530000     0.400000        5.700000   \n",
       "max        15.900000          1.580000     1.660000       31.600000   \n",
       "\n",
       "        chlorides  free sulfur dioxide  total sulfur dioxide      density  \\\n",
       "count  3198.00000          3198.000000           3198.000000  3198.000000   \n",
       "mean      0.06658            25.738587             92.224046     0.995343   \n",
       "std       0.04253            17.024665             59.063027     0.002843   \n",
       "min       0.01200             1.000000              6.000000     0.987420   \n",
       "25%       0.04200            12.000000             38.000000     0.993340   \n",
       "50%       0.05900            23.000000             90.000000     0.995725   \n",
       "75%       0.08000            36.000000            136.000000     0.997380   \n",
       "max       0.61100           131.000000            313.000000     1.010300   \n",
       "\n",
       "                pH    sulphates      alcohol      quality  \n",
       "count  3198.000000  3198.000000  3198.000000  3198.000000  \n",
       "mean      3.249181     0.573687    10.481907     5.771420  \n",
       "std       0.164018     0.168251     1.159476     0.862072  \n",
       "min       2.720000     0.250000     8.400000     3.000000  \n",
       "25%       3.140000     0.460000     9.500000     5.000000  \n",
       "50%       3.245000     0.550000    10.300000     6.000000  \n",
       "75%       3.360000     0.650000    11.300000     6.000000  \n",
       "max       4.010000     2.000000    14.900000     9.000000  "
      ]
     },
     "execution_count": 25,
     "metadata": {},
     "output_type": "execute_result"
    }
   ],
   "source": [
    "desc = df_combined.describe()\n",
    "desc"
   ]
  },
  {
   "cell_type": "code",
   "execution_count": 26,
   "id": "2a3e73a4",
   "metadata": {},
   "outputs": [
    {
     "data": {
      "text/html": [
       "<div>\n",
       "<style scoped>\n",
       "    .dataframe tbody tr th:only-of-type {\n",
       "        vertical-align: middle;\n",
       "    }\n",
       "\n",
       "    .dataframe tbody tr th {\n",
       "        vertical-align: top;\n",
       "    }\n",
       "\n",
       "    .dataframe thead th {\n",
       "        text-align: right;\n",
       "    }\n",
       "</style>\n",
       "<table border=\"1\" class=\"dataframe\">\n",
       "  <thead>\n",
       "    <tr style=\"text-align: right;\">\n",
       "      <th></th>\n",
       "      <th>fixed acidity</th>\n",
       "      <th>volatile acidity</th>\n",
       "      <th>citric acid</th>\n",
       "      <th>residual sugar</th>\n",
       "      <th>chlorides</th>\n",
       "      <th>free sulfur dioxide</th>\n",
       "      <th>total sulfur dioxide</th>\n",
       "      <th>density</th>\n",
       "      <th>pH</th>\n",
       "      <th>sulphates</th>\n",
       "      <th>alcohol</th>\n",
       "      <th>quality</th>\n",
       "    </tr>\n",
       "  </thead>\n",
       "  <tbody>\n",
       "    <tr>\n",
       "      <th>fixed acidity</th>\n",
       "      <td>1.000000</td>\n",
       "      <td>0.174606</td>\n",
       "      <td>0.406544</td>\n",
       "      <td>-0.157583</td>\n",
       "      <td>0.292929</td>\n",
       "      <td>-0.342018</td>\n",
       "      <td>-0.388811</td>\n",
       "      <td>0.567916</td>\n",
       "      <td>-0.281430</td>\n",
       "      <td>0.341495</td>\n",
       "      <td>-0.098238</td>\n",
       "      <td>-0.048935</td>\n",
       "    </tr>\n",
       "    <tr>\n",
       "      <th>volatile acidity</th>\n",
       "      <td>0.174606</td>\n",
       "      <td>1.000000</td>\n",
       "      <td>-0.457319</td>\n",
       "      <td>-0.269591</td>\n",
       "      <td>0.360178</td>\n",
       "      <td>-0.404555</td>\n",
       "      <td>-0.467843</td>\n",
       "      <td>0.333643</td>\n",
       "      <td>0.333207</td>\n",
       "      <td>0.197007</td>\n",
       "      <td>-0.102096</td>\n",
       "      <td>-0.321179</td>\n",
       "    </tr>\n",
       "    <tr>\n",
       "      <th>citric acid</th>\n",
       "      <td>0.406544</td>\n",
       "      <td>-0.457319</td>\n",
       "      <td>1.000000</td>\n",
       "      <td>0.160783</td>\n",
       "      <td>0.058895</td>\n",
       "      <td>0.128537</td>\n",
       "      <td>0.190744</td>\n",
       "      <td>0.102999</td>\n",
       "      <td>-0.434909</td>\n",
       "      <td>0.104079</td>\n",
       "      <td>0.035395</td>\n",
       "      <td>0.136535</td>\n",
       "    </tr>\n",
       "    <tr>\n",
       "      <th>residual sugar</th>\n",
       "      <td>-0.157583</td>\n",
       "      <td>-0.269591</td>\n",
       "      <td>0.160783</td>\n",
       "      <td>1.000000</td>\n",
       "      <td>-0.183554</td>\n",
       "      <td>0.468799</td>\n",
       "      <td>0.557976</td>\n",
       "      <td>0.337142</td>\n",
       "      <td>-0.307130</td>\n",
       "      <td>-0.243986</td>\n",
       "      <td>-0.260233</td>\n",
       "      <td>-0.007895</td>\n",
       "    </tr>\n",
       "    <tr>\n",
       "      <th>chlorides</th>\n",
       "      <td>0.292929</td>\n",
       "      <td>0.360178</td>\n",
       "      <td>0.058895</td>\n",
       "      <td>-0.183554</td>\n",
       "      <td>1.000000</td>\n",
       "      <td>-0.250867</td>\n",
       "      <td>-0.327750</td>\n",
       "      <td>0.388238</td>\n",
       "      <td>0.019204</td>\n",
       "      <td>0.456518</td>\n",
       "      <td>-0.243561</td>\n",
       "      <td>-0.205468</td>\n",
       "    </tr>\n",
       "    <tr>\n",
       "      <th>free sulfur dioxide</th>\n",
       "      <td>-0.342018</td>\n",
       "      <td>-0.404555</td>\n",
       "      <td>0.128537</td>\n",
       "      <td>0.468799</td>\n",
       "      <td>-0.250867</td>\n",
       "      <td>1.000000</td>\n",
       "      <td>0.769176</td>\n",
       "      <td>-0.137063</td>\n",
       "      <td>-0.195405</td>\n",
       "      <td>-0.249889</td>\n",
       "      <td>-0.106738</td>\n",
       "      <td>0.082765</td>\n",
       "    </tr>\n",
       "    <tr>\n",
       "      <th>total sulfur dioxide</th>\n",
       "      <td>-0.388811</td>\n",
       "      <td>-0.467843</td>\n",
       "      <td>0.190744</td>\n",
       "      <td>0.557976</td>\n",
       "      <td>-0.327750</td>\n",
       "      <td>0.769176</td>\n",
       "      <td>1.000000</td>\n",
       "      <td>-0.167529</td>\n",
       "      <td>-0.313452</td>\n",
       "      <td>-0.346056</td>\n",
       "      <td>-0.181613</td>\n",
       "      <td>0.010070</td>\n",
       "    </tr>\n",
       "    <tr>\n",
       "      <th>density</th>\n",
       "      <td>0.567916</td>\n",
       "      <td>0.333643</td>\n",
       "      <td>0.102999</td>\n",
       "      <td>0.337142</td>\n",
       "      <td>0.388238</td>\n",
       "      <td>-0.137063</td>\n",
       "      <td>-0.167529</td>\n",
       "      <td>1.000000</td>\n",
       "      <td>0.019993</td>\n",
       "      <td>0.320231</td>\n",
       "      <td>-0.619661</td>\n",
       "      <td>-0.319505</td>\n",
       "    </tr>\n",
       "    <tr>\n",
       "      <th>pH</th>\n",
       "      <td>-0.281430</td>\n",
       "      <td>0.333207</td>\n",
       "      <td>-0.434909</td>\n",
       "      <td>-0.307130</td>\n",
       "      <td>0.019204</td>\n",
       "      <td>-0.195405</td>\n",
       "      <td>-0.313452</td>\n",
       "      <td>0.019993</td>\n",
       "      <td>1.000000</td>\n",
       "      <td>0.146948</td>\n",
       "      <td>0.140914</td>\n",
       "      <td>-0.018469</td>\n",
       "    </tr>\n",
       "    <tr>\n",
       "      <th>sulphates</th>\n",
       "      <td>0.341495</td>\n",
       "      <td>0.197007</td>\n",
       "      <td>0.104079</td>\n",
       "      <td>-0.243986</td>\n",
       "      <td>0.456518</td>\n",
       "      <td>-0.249889</td>\n",
       "      <td>-0.346056</td>\n",
       "      <td>0.320231</td>\n",
       "      <td>0.146948</td>\n",
       "      <td>1.000000</td>\n",
       "      <td>0.014771</td>\n",
       "      <td>0.067403</td>\n",
       "    </tr>\n",
       "    <tr>\n",
       "      <th>alcohol</th>\n",
       "      <td>-0.098238</td>\n",
       "      <td>-0.102096</td>\n",
       "      <td>0.035395</td>\n",
       "      <td>-0.260233</td>\n",
       "      <td>-0.243561</td>\n",
       "      <td>-0.106738</td>\n",
       "      <td>-0.181613</td>\n",
       "      <td>-0.619661</td>\n",
       "      <td>0.140914</td>\n",
       "      <td>0.014771</td>\n",
       "      <td>1.000000</td>\n",
       "      <td>0.475152</td>\n",
       "    </tr>\n",
       "    <tr>\n",
       "      <th>quality</th>\n",
       "      <td>-0.048935</td>\n",
       "      <td>-0.321179</td>\n",
       "      <td>0.136535</td>\n",
       "      <td>-0.007895</td>\n",
       "      <td>-0.205468</td>\n",
       "      <td>0.082765</td>\n",
       "      <td>0.010070</td>\n",
       "      <td>-0.319505</td>\n",
       "      <td>-0.018469</td>\n",
       "      <td>0.067403</td>\n",
       "      <td>0.475152</td>\n",
       "      <td>1.000000</td>\n",
       "    </tr>\n",
       "  </tbody>\n",
       "</table>\n",
       "</div>"
      ],
      "text/plain": [
       "                      fixed acidity  volatile acidity  citric acid  \\\n",
       "fixed acidity              1.000000          0.174606     0.406544   \n",
       "volatile acidity           0.174606          1.000000    -0.457319   \n",
       "citric acid                0.406544         -0.457319     1.000000   \n",
       "residual sugar            -0.157583         -0.269591     0.160783   \n",
       "chlorides                  0.292929          0.360178     0.058895   \n",
       "free sulfur dioxide       -0.342018         -0.404555     0.128537   \n",
       "total sulfur dioxide      -0.388811         -0.467843     0.190744   \n",
       "density                    0.567916          0.333643     0.102999   \n",
       "pH                        -0.281430          0.333207    -0.434909   \n",
       "sulphates                  0.341495          0.197007     0.104079   \n",
       "alcohol                   -0.098238         -0.102096     0.035395   \n",
       "quality                   -0.048935         -0.321179     0.136535   \n",
       "\n",
       "                      residual sugar  chlorides  free sulfur dioxide  \\\n",
       "fixed acidity              -0.157583   0.292929            -0.342018   \n",
       "volatile acidity           -0.269591   0.360178            -0.404555   \n",
       "citric acid                 0.160783   0.058895             0.128537   \n",
       "residual sugar              1.000000  -0.183554             0.468799   \n",
       "chlorides                  -0.183554   1.000000            -0.250867   \n",
       "free sulfur dioxide         0.468799  -0.250867             1.000000   \n",
       "total sulfur dioxide        0.557976  -0.327750             0.769176   \n",
       "density                     0.337142   0.388238            -0.137063   \n",
       "pH                         -0.307130   0.019204            -0.195405   \n",
       "sulphates                  -0.243986   0.456518            -0.249889   \n",
       "alcohol                    -0.260233  -0.243561            -0.106738   \n",
       "quality                    -0.007895  -0.205468             0.082765   \n",
       "\n",
       "                      total sulfur dioxide   density        pH  sulphates  \\\n",
       "fixed acidity                    -0.388811  0.567916 -0.281430   0.341495   \n",
       "volatile acidity                 -0.467843  0.333643  0.333207   0.197007   \n",
       "citric acid                       0.190744  0.102999 -0.434909   0.104079   \n",
       "residual sugar                    0.557976  0.337142 -0.307130  -0.243986   \n",
       "chlorides                        -0.327750  0.388238  0.019204   0.456518   \n",
       "free sulfur dioxide               0.769176 -0.137063 -0.195405  -0.249889   \n",
       "total sulfur dioxide              1.000000 -0.167529 -0.313452  -0.346056   \n",
       "density                          -0.167529  1.000000  0.019993   0.320231   \n",
       "pH                               -0.313452  0.019993  1.000000   0.146948   \n",
       "sulphates                        -0.346056  0.320231  0.146948   1.000000   \n",
       "alcohol                          -0.181613 -0.619661  0.140914   0.014771   \n",
       "quality                           0.010070 -0.319505 -0.018469   0.067403   \n",
       "\n",
       "                       alcohol   quality  \n",
       "fixed acidity        -0.098238 -0.048935  \n",
       "volatile acidity     -0.102096 -0.321179  \n",
       "citric acid           0.035395  0.136535  \n",
       "residual sugar       -0.260233 -0.007895  \n",
       "chlorides            -0.243561 -0.205468  \n",
       "free sulfur dioxide  -0.106738  0.082765  \n",
       "total sulfur dioxide -0.181613  0.010070  \n",
       "density              -0.619661 -0.319505  \n",
       "pH                    0.140914 -0.018469  \n",
       "sulphates             0.014771  0.067403  \n",
       "alcohol               1.000000  0.475152  \n",
       "quality               0.475152  1.000000  "
      ]
     },
     "execution_count": 26,
     "metadata": {},
     "output_type": "execute_result"
    }
   ],
   "source": [
    "corrs = df_combined.corr()\n",
    "corrs"
   ]
  },
  {
   "cell_type": "code",
   "execution_count": 27,
   "id": "b0277dd1",
   "metadata": {},
   "outputs": [],
   "source": [
    "# I used correlation to see if any one ingredient did have a direct correlation to quality . Since nothing is standing out I will not try and plot each ingredient to quality to see if we can see anything that way."
   ]
  },
  {
   "cell_type": "code",
   "execution_count": 28,
   "id": "d3851766",
   "metadata": {},
   "outputs": [
    {
     "data": {
      "image/png": "[encoded data removed]",
      "text/plain": [
       "<Figure size 432x288 with 4 Axes>"
      ]
     },
     "metadata": {
      "needs_background": "light"
     },
     "output_type": "display_data"
    }
   ],
   "source": [
    "scatter_matrix(df_combined[['fixed acidity','quality']])\n",
    "\n",
    "f4 = plt.gcf()"
   ]
  },
  {
   "cell_type": "code",
   "execution_count": 29,
   "id": "af1f444d",
   "metadata": {},
   "outputs": [
    {
     "data": {
      "image/png": "[encoded data removed]",
      "text/plain": [
       "<Figure size 432x288 with 4 Axes>"
      ]
     },
     "metadata": {
      "needs_background": "light"
     },
     "output_type": "display_data"
    }
   ],
   "source": [
    "scatter_matrix(df_combined[['volatile acidity','quality']])\n",
    "\n",
    "f4 = plt.gcf()"
   ]
  },
  {
   "cell_type": "code",
   "execution_count": 31,
   "id": "ba265faa",
   "metadata": {},
   "outputs": [
    {
     "data": {
      "image/png": "[encoded data removed]",
      "text/plain": [
       "<Figure size 432x288 with 4 Axes>"
      ]
     },
     "metadata": {
      "needs_background": "light"
     },
     "output_type": "display_data"
    }
   ],
   "source": [
    "scatter_matrix(df_combined[['citric acid','quality']])\n",
    "\n",
    "f4 = plt.gcf()\n"
   ]
  },
  {
   "cell_type": "code",
   "execution_count": 32,
   "id": "5e04a979",
   "metadata": {},
   "outputs": [
    {
     "data": {
      "image/png": "[encoded data removed]",
      "text/plain": [
       "<Figure size 432x288 with 4 Axes>"
      ]
     },
     "metadata": {
      "needs_background": "light"
     },
     "output_type": "display_data"
    }
   ],
   "source": [
    "scatter_matrix(df_combined[['residual sugar','quality']])\n",
    "\n",
    "f4 = plt.gcf()\n"
   ]
  },
  {
   "cell_type": "code",
   "execution_count": 33,
   "id": "36fb1dc0",
   "metadata": {},
   "outputs": [
    {
     "data": {
      "image/png": "[encoded data removed]",
      "text/plain": [
       "<Figure size 432x288 with 4 Axes>"
      ]
     },
     "metadata": {
      "needs_background": "light"
     },
     "output_type": "display_data"
    }
   ],
   "source": [
    "scatter_matrix(df_combined[['chlorides','quality']])\n",
    "\n",
    "f4 = plt.gcf()"
   ]
  },
  {
   "cell_type": "code",
   "execution_count": 34,
   "id": "cd10f584",
   "metadata": {},
   "outputs": [
    {
     "data": {
      "image/png": "[encoded data removed]",
      "text/plain": [
       "<Figure size 432x288 with 4 Axes>"
      ]
     },
     "metadata": {
      "needs_background": "light"
     },
     "output_type": "display_data"
    }
   ],
   "source": [
    "scatter_matrix(df_combined[['free sulfur dioxide','quality']])\n",
    "f4 = plt.gcf()\n"
   ]
  },
  {
   "cell_type": "code",
   "execution_count": 36,
   "id": "f206927f",
   "metadata": {},
   "outputs": [
    {
     "data": {
      "image/png": "[encoded data removed]",
      "text/plain": [
       "<Figure size 432x288 with 4 Axes>"
      ]
     },
     "metadata": {
      "needs_background": "light"
     },
     "output_type": "display_data"
    }
   ],
   "source": [
    "scatter_matrix(df_combined[['total sulfur dioxide','quality']])\n",
    "\n",
    "f4 = plt.gcf()"
   ]
  },
  {
   "cell_type": "code",
   "execution_count": 37,
   "id": "072ced2b",
   "metadata": {},
   "outputs": [
    {
     "data": {
      "image/png": "[encoded data removed]",
      "text/plain": [
       "<Figure size 432x288 with 4 Axes>"
      ]
     },
     "metadata": {
      "needs_background": "light"
     },
     "output_type": "display_data"
    }
   ],
   "source": [
    "scatter_matrix(df_combined[['density','quality']])\n",
    "\n",
    "f4 = plt.gcf()"
   ]
  },
  {
   "cell_type": "code",
   "execution_count": 38,
   "id": "b4adcc08",
   "metadata": {},
   "outputs": [
    {
     "data": {
      "image/png": "[encoded data removed]",
      "text/plain": [
       "<Figure size 432x288 with 4 Axes>"
      ]
     },
     "metadata": {
      "needs_background": "light"
     },
     "output_type": "display_data"
    }
   ],
   "source": [
    "scatter_matrix(df_combined[['pH','quality']])\n",
    "\n",
    "f4 = plt.gcf()\n"
   ]
  },
  {
   "cell_type": "code",
   "execution_count": 39,
   "id": "d9126ca5",
   "metadata": {},
   "outputs": [
    {
     "data": {
      "image/png": "[encoded data removed]",
      "text/plain": [
       "<Figure size 432x288 with 4 Axes>"
      ]
     },
     "metadata": {
      "needs_background": "light"
     },
     "output_type": "display_data"
    }
   ],
   "source": [
    "scatter_matrix(df_combined[['alcohol','quality']])\n",
    "\n",
    "f4 = plt.gcf()"
   ]
  },
  {
   "cell_type": "code",
   "execution_count": 85,
   "id": "66076d67",
   "metadata": {},
   "outputs": [
    {
     "data": {
      "text/plain": [
       "(3198, 12)"
      ]
     },
     "execution_count": 85,
     "metadata": {},
     "output_type": "execute_result"
    }
   ],
   "source": [
    "df_combined.shape\n"
   ]
  },
  {
   "cell_type": "code",
   "execution_count": 40,
   "id": "0df99ac5",
   "metadata": {},
   "outputs": [],
   "source": [
    "# Looking at the plots we just created there is no one ingredient standing out in relation to quality."
   ]
  },
  {
   "cell_type": "code",
   "execution_count": 41,
   "id": "41e9b23f",
   "metadata": {},
   "outputs": [],
   "source": [
    "# Now I am going to split the data into a training set."
   ]
  },
  {
   "cell_type": "code",
   "execution_count": 42,
   "id": "f2a7cbfb",
   "metadata": {},
   "outputs": [
    {
     "data": {
      "text/plain": [
       "2558"
      ]
     },
     "execution_count": 42,
     "metadata": {},
     "output_type": "execute_result"
    }
   ],
   "source": [
    "num_training = int(3198*.8)\n",
    "num_training\n"
   ]
  },
  {
   "cell_type": "code",
   "execution_count": 43,
   "id": "4811f63f",
   "metadata": {},
   "outputs": [],
   "source": [
    "df_training = df_combined[:num_training]\n",
    "df_testing = df_combined[num_training:]\n"
   ]
  },
  {
   "cell_type": "code",
   "execution_count": 45,
   "id": "81ecb170",
   "metadata": {},
   "outputs": [
    {
     "data": {
      "text/html": [
       "<div>\n",
       "<style scoped>\n",
       "    .dataframe tbody tr th:only-of-type {\n",
       "        vertical-align: middle;\n",
       "    }\n",
       "\n",
       "    .dataframe tbody tr th {\n",
       "        vertical-align: top;\n",
       "    }\n",
       "\n",
       "    .dataframe thead th {\n",
       "        text-align: right;\n",
       "    }\n",
       "</style>\n",
       "<table border=\"1\" class=\"dataframe\">\n",
       "  <thead>\n",
       "    <tr style=\"text-align: right;\">\n",
       "      <th></th>\n",
       "      <th>fixed acidity</th>\n",
       "      <th>volatile acidity</th>\n",
       "      <th>citric acid</th>\n",
       "      <th>residual sugar</th>\n",
       "      <th>chlorides</th>\n",
       "      <th>free sulfur dioxide</th>\n",
       "      <th>total sulfur dioxide</th>\n",
       "      <th>density</th>\n",
       "      <th>pH</th>\n",
       "      <th>sulphates</th>\n",
       "      <th>alcohol</th>\n",
       "      <th>quality</th>\n",
       "    </tr>\n",
       "  </thead>\n",
       "  <tbody>\n",
       "    <tr>\n",
       "      <th>0</th>\n",
       "      <td>11.7</td>\n",
       "      <td>0.45</td>\n",
       "      <td>0.63</td>\n",
       "      <td>2.2</td>\n",
       "      <td>0.073</td>\n",
       "      <td>7.0</td>\n",
       "      <td>23.0</td>\n",
       "      <td>0.99974</td>\n",
       "      <td>3.21</td>\n",
       "      <td>0.69</td>\n",
       "      <td>10.9</td>\n",
       "      <td>6</td>\n",
       "    </tr>\n",
       "    <tr>\n",
       "      <th>1</th>\n",
       "      <td>7.0</td>\n",
       "      <td>0.62</td>\n",
       "      <td>0.18</td>\n",
       "      <td>1.5</td>\n",
       "      <td>0.062</td>\n",
       "      <td>7.0</td>\n",
       "      <td>50.0</td>\n",
       "      <td>0.99510</td>\n",
       "      <td>3.08</td>\n",
       "      <td>0.60</td>\n",
       "      <td>9.3</td>\n",
       "      <td>5</td>\n",
       "    </tr>\n",
       "    <tr>\n",
       "      <th>2</th>\n",
       "      <td>9.0</td>\n",
       "      <td>0.30</td>\n",
       "      <td>0.49</td>\n",
       "      <td>7.2</td>\n",
       "      <td>0.039</td>\n",
       "      <td>32.0</td>\n",
       "      <td>84.0</td>\n",
       "      <td>0.99380</td>\n",
       "      <td>2.94</td>\n",
       "      <td>0.32</td>\n",
       "      <td>11.5</td>\n",
       "      <td>6</td>\n",
       "    </tr>\n",
       "    <tr>\n",
       "      <th>3</th>\n",
       "      <td>7.0</td>\n",
       "      <td>0.30</td>\n",
       "      <td>0.38</td>\n",
       "      <td>14.9</td>\n",
       "      <td>0.032</td>\n",
       "      <td>60.0</td>\n",
       "      <td>181.0</td>\n",
       "      <td>0.99830</td>\n",
       "      <td>3.18</td>\n",
       "      <td>0.61</td>\n",
       "      <td>9.3</td>\n",
       "      <td>7</td>\n",
       "    </tr>\n",
       "    <tr>\n",
       "      <th>4</th>\n",
       "      <td>7.0</td>\n",
       "      <td>0.14</td>\n",
       "      <td>0.41</td>\n",
       "      <td>0.9</td>\n",
       "      <td>0.037</td>\n",
       "      <td>22.0</td>\n",
       "      <td>95.0</td>\n",
       "      <td>0.99140</td>\n",
       "      <td>3.25</td>\n",
       "      <td>0.43</td>\n",
       "      <td>10.9</td>\n",
       "      <td>6</td>\n",
       "    </tr>\n",
       "  </tbody>\n",
       "</table>\n",
       "</div>"
      ],
      "text/plain": [
       "   fixed acidity  volatile acidity  citric acid  residual sugar  chlorides  \\\n",
       "0           11.7              0.45         0.63             2.2      0.073   \n",
       "1            7.0              0.62         0.18             1.5      0.062   \n",
       "2            9.0              0.30         0.49             7.2      0.039   \n",
       "3            7.0              0.30         0.38            14.9      0.032   \n",
       "4            7.0              0.14         0.41             0.9      0.037   \n",
       "\n",
       "   free sulfur dioxide  total sulfur dioxide  density    pH  sulphates  \\\n",
       "0                  7.0                  23.0  0.99974  3.21       0.69   \n",
       "1                  7.0                  50.0  0.99510  3.08       0.60   \n",
       "2                 32.0                  84.0  0.99380  2.94       0.32   \n",
       "3                 60.0                 181.0  0.99830  3.18       0.61   \n",
       "4                 22.0                  95.0  0.99140  3.25       0.43   \n",
       "\n",
       "   alcohol  quality  \n",
       "0     10.9        6  \n",
       "1      9.3        5  \n",
       "2     11.5        6  \n",
       "3      9.3        7  \n",
       "4     10.9        6  "
      ]
     },
     "execution_count": 45,
     "metadata": {},
     "output_type": "execute_result"
    }
   ],
   "source": [
    "df_training[:5]"
   ]
  },
  {
   "cell_type": "code",
   "execution_count": 75,
   "id": "8bee9238",
   "metadata": {},
   "outputs": [],
   "source": [
    "# This will return the predicted quality of wine in the data frame \n",
    "\n",
    "\n",
    "def predict_rate(df, inds):\n",
    "    rate_predict = []\n",
    "    for i in inds:\n",
    "        rateMap = {}\n",
    "        rate_mode = 0\n",
    "        for j in i:\n",
    "            curr = df.loc[j, 'quality']\n",
    "            if curr in rateMap.keys():\n",
    "                rateMap[curr]+=1\n",
    "            else: \n",
    "                rateMap[curr] = 1\n",
    "            if rateMap[curr] > rate_mode:\n",
    "                rate_mode = curr\n",
    "        rate_predict.append(rate_mode)\n",
    "    return rate_predict\n",
    "\n"
   ]
  },
  {
   "cell_type": "code",
   "execution_count": 76,
   "id": "eb8d6df1",
   "metadata": {},
   "outputs": [],
   "source": [
    "# This will also take in the data ontaining the predicted wine quality into a column and see if we get an error rate\n",
    "\n",
    "def validation(df_after_prediction):\n",
    "    error = 0\n",
    "    num_row = 0\n",
    "    # iterate through each row in df\n",
    "    for idx, row in df_after_prediction.iterrows():\n",
    "        num_row = num_row+1\n",
    "        if not row['quality'] == row['predicted quality']:\n",
    "            error = error+1\n",
    "    errorPercent = error/num_row\n",
    "    \n",
    "    return errorPercent"
   ]
  },
  {
   "cell_type": "code",
   "execution_count": 77,
   "id": "943d198e",
   "metadata": {},
   "outputs": [],
   "source": [
    "\n",
    "def get_row_list(df):\n",
    "    rows_list=[]\n",
    "    for idx, row in df.iterrows():\n",
    "        curr_row = [row['fixed acidity'],row['volatile acidity'], \n",
    "                    row['citric acid'],row['residual sugar'], \n",
    "                    row['chlorides'], row['free sulfur dioxide'], \n",
    "                    row['total sulfur dioxide'], row['density'], \n",
    "                    row['pH'], row['sulphates'],\n",
    "                    row['alcohol']]\n",
    "        rows_list.append(curr_row) \n",
    "    return rows_list"
   ]
  },
  {
   "cell_type": "code",
   "execution_count": 78,
   "id": "0b84f22d",
   "metadata": {},
   "outputs": [],
   "source": [
    "# This will take in the training dataframe, the testing dataframe, and  the k value, then returns the result of validation\n",
    "def getErrorPercent(df_training, df_testing, k_value, rows_list, tree):\n",
    "    inds = tree.query(rows_list, k=k_value, return_distance = False)\n",
    "    df_col_pred = predict_rate(df_training, inds)\n",
    "    df_testing['predicted quality'] = df_col_pred\n",
    "    return validation(df_testing)"
   ]
  },
  {
   "cell_type": "code",
   "execution_count": 79,
   "id": "952007d1",
   "metadata": {},
   "outputs": [],
   "source": [
    "# Now to build the kd tree"
   ]
  },
  {
   "cell_type": "code",
   "execution_count": 80,
   "id": "dd294c6f",
   "metadata": {},
   "outputs": [],
   "source": [
    "# First to list the rows\n",
    "rows_list_training = get_row_list(df_training)"
   ]
  },
  {
   "cell_type": "code",
   "execution_count": 81,
   "id": "f38f6a5a",
   "metadata": {},
   "outputs": [],
   "source": [
    "\n",
    "# The kd tree will store all the wines in the training set\n",
    "tree = KDTree(rows_list_training)\n"
   ]
  },
  {
   "cell_type": "code",
   "execution_count": 82,
   "id": "86d28820",
   "metadata": {},
   "outputs": [],
   "source": [
    "# Now finding possible k values\n",
    "\n",
    "k_val = np.arange(1, 41, 1)\n",
    "err_val=[]\n",
    "for i in k_val:\n",
    "    df_training_cpy = df_training.copy()\n",
    "    err_val.append(getErrorPercent(df_training, df_training_cpy, \n",
    "                                   i ,rows_list_training, tree))\n",
    "df_err = pd.DataFrame()\n",
    "df_err['k value'] = k_val\n",
    "df_err['error'] = err_val\n",
    "\n"
   ]
  },
  {
   "cell_type": "code",
   "execution_count": 83,
   "id": "7023621a",
   "metadata": {},
   "outputs": [
    {
     "data": {
      "text/html": [
       "<div>\n",
       "<style scoped>\n",
       "    .dataframe tbody tr th:only-of-type {\n",
       "        vertical-align: middle;\n",
       "    }\n",
       "\n",
       "    .dataframe tbody tr th {\n",
       "        vertical-align: top;\n",
       "    }\n",
       "\n",
       "    .dataframe thead th {\n",
       "        text-align: right;\n",
       "    }\n",
       "</style>\n",
       "<table border=\"1\" class=\"dataframe\">\n",
       "  <thead>\n",
       "    <tr style=\"text-align: right;\">\n",
       "      <th></th>\n",
       "      <th>k value</th>\n",
       "      <th>error</th>\n",
       "    </tr>\n",
       "  </thead>\n",
       "  <tbody>\n",
       "    <tr>\n",
       "      <th>0</th>\n",
       "      <td>1</td>\n",
       "      <td>0.000000</td>\n",
       "    </tr>\n",
       "    <tr>\n",
       "      <th>1</th>\n",
       "      <td>2</td>\n",
       "      <td>0.000000</td>\n",
       "    </tr>\n",
       "    <tr>\n",
       "      <th>2</th>\n",
       "      <td>3</td>\n",
       "      <td>0.000000</td>\n",
       "    </tr>\n",
       "    <tr>\n",
       "      <th>3</th>\n",
       "      <td>4</td>\n",
       "      <td>0.000000</td>\n",
       "    </tr>\n",
       "    <tr>\n",
       "      <th>4</th>\n",
       "      <td>5</td>\n",
       "      <td>0.000391</td>\n",
       "    </tr>\n",
       "    <tr>\n",
       "      <th>5</th>\n",
       "      <td>6</td>\n",
       "      <td>0.001955</td>\n",
       "    </tr>\n",
       "    <tr>\n",
       "      <th>6</th>\n",
       "      <td>7</td>\n",
       "      <td>0.010946</td>\n",
       "    </tr>\n",
       "    <tr>\n",
       "      <th>7</th>\n",
       "      <td>8</td>\n",
       "      <td>0.025020</td>\n",
       "    </tr>\n",
       "    <tr>\n",
       "      <th>8</th>\n",
       "      <td>9</td>\n",
       "      <td>0.056685</td>\n",
       "    </tr>\n",
       "    <tr>\n",
       "      <th>9</th>\n",
       "      <td>10</td>\n",
       "      <td>0.094605</td>\n",
       "    </tr>\n",
       "  </tbody>\n",
       "</table>\n",
       "</div>"
      ],
      "text/plain": [
       "   k value     error\n",
       "0        1  0.000000\n",
       "1        2  0.000000\n",
       "2        3  0.000000\n",
       "3        4  0.000000\n",
       "4        5  0.000391\n",
       "5        6  0.001955\n",
       "6        7  0.010946\n",
       "7        8  0.025020\n",
       "8        9  0.056685\n",
       "9       10  0.094605"
      ]
     },
     "execution_count": 83,
     "metadata": {},
     "output_type": "execute_result"
    }
   ],
   "source": [
    "df_err[:10]"
   ]
  },
  {
   "cell_type": "code",
   "execution_count": 84,
   "id": "f1f34a7e",
   "metadata": {},
   "outputs": [
    {
     "data": {
      "text/plain": [
       "<AxesSubplot:xlabel='k value', ylabel='error'>"
      ]
     },
     "execution_count": 84,
     "metadata": {},
     "output_type": "execute_result"
    },
    {
     "data": {
      "image/png": "[encoded data removed]",
      "text/plain": [
       "<Figure size 432x288 with 1 Axes>"
      ]
     },
     "metadata": {
      "needs_background": "light"
     },
     "output_type": "display_data"
    }
   ],
   "source": [
    "df_err\n",
    "df_err.plot.scatter(x='k value', y='error')"
   ]
  },
  {
   "cell_type": "code",
   "execution_count": 95,
   "id": "babd07ec",
   "metadata": {},
   "outputs": [
    {
     "name": "stderr",
     "output_type": "stream",
     "text": [
      "/var/folders/2s/jfg371412_d0h7r1gk_j_n5w0000gn/T/ipykernel_42817/2593915958.py:8: SettingWithCopyWarning: \n",
      "A value is trying to be set on a copy of a slice from a DataFrame.\n",
      "Try using .loc[row_indexer,col_indexer] = value instead\n",
      "\n",
      "See the caveats in the documentation: https://pandas.pydata.org/pandas-docs/stable/user_guide/indexing.html#returning-a-view-versus-a-copy\n",
      "  df_training['predicted quality'] = predict_rate(df_training, inds_k_4_training)\n"
     ]
    }
   ],
   "source": [
    "#The list of rows of the training dataset\n",
    "rows_list_training = get_row_list(df_training)\n",
    "\n",
    "#The list of lists of nearest ingredients\n",
    "inds_k_4_training = tree.query(rows_list_training, k=4, return_distance = False)\n",
    "\n",
    "#the list of predicted quality of each wine\n",
    "df_training['predicted quality'] = predict_rate(df_training, inds_k_4_training)"
   ]
  },
  {
   "cell_type": "code",
   "execution_count": 96,
   "id": "bcda4596",
   "metadata": {},
   "outputs": [
    {
     "data": {
      "text/html": [
       "<div>\n",
       "<style scoped>\n",
       "    .dataframe tbody tr th:only-of-type {\n",
       "        vertical-align: middle;\n",
       "    }\n",
       "\n",
       "    .dataframe tbody tr th {\n",
       "        vertical-align: top;\n",
       "    }\n",
       "\n",
       "    .dataframe thead th {\n",
       "        text-align: right;\n",
       "    }\n",
       "</style>\n",
       "<table border=\"1\" class=\"dataframe\">\n",
       "  <thead>\n",
       "    <tr style=\"text-align: right;\">\n",
       "      <th></th>\n",
       "      <th>fixed acidity</th>\n",
       "      <th>volatile acidity</th>\n",
       "      <th>citric acid</th>\n",
       "      <th>residual sugar</th>\n",
       "      <th>chlorides</th>\n",
       "      <th>free sulfur dioxide</th>\n",
       "      <th>total sulfur dioxide</th>\n",
       "      <th>density</th>\n",
       "      <th>pH</th>\n",
       "      <th>sulphates</th>\n",
       "      <th>alcohol</th>\n",
       "      <th>quality</th>\n",
       "      <th>predicted quality</th>\n",
       "    </tr>\n",
       "  </thead>\n",
       "  <tbody>\n",
       "    <tr>\n",
       "      <th>0</th>\n",
       "      <td>11.7</td>\n",
       "      <td>0.45</td>\n",
       "      <td>0.63</td>\n",
       "      <td>2.2</td>\n",
       "      <td>0.073</td>\n",
       "      <td>7.0</td>\n",
       "      <td>23.0</td>\n",
       "      <td>0.99974</td>\n",
       "      <td>3.21</td>\n",
       "      <td>0.69</td>\n",
       "      <td>10.9</td>\n",
       "      <td>6</td>\n",
       "      <td>6</td>\n",
       "    </tr>\n",
       "    <tr>\n",
       "      <th>1</th>\n",
       "      <td>7.0</td>\n",
       "      <td>0.62</td>\n",
       "      <td>0.18</td>\n",
       "      <td>1.5</td>\n",
       "      <td>0.062</td>\n",
       "      <td>7.0</td>\n",
       "      <td>50.0</td>\n",
       "      <td>0.99510</td>\n",
       "      <td>3.08</td>\n",
       "      <td>0.60</td>\n",
       "      <td>9.3</td>\n",
       "      <td>5</td>\n",
       "      <td>5</td>\n",
       "    </tr>\n",
       "    <tr>\n",
       "      <th>2</th>\n",
       "      <td>9.0</td>\n",
       "      <td>0.30</td>\n",
       "      <td>0.49</td>\n",
       "      <td>7.2</td>\n",
       "      <td>0.039</td>\n",
       "      <td>32.0</td>\n",
       "      <td>84.0</td>\n",
       "      <td>0.99380</td>\n",
       "      <td>2.94</td>\n",
       "      <td>0.32</td>\n",
       "      <td>11.5</td>\n",
       "      <td>6</td>\n",
       "      <td>6</td>\n",
       "    </tr>\n",
       "    <tr>\n",
       "      <th>3</th>\n",
       "      <td>7.0</td>\n",
       "      <td>0.30</td>\n",
       "      <td>0.38</td>\n",
       "      <td>14.9</td>\n",
       "      <td>0.032</td>\n",
       "      <td>60.0</td>\n",
       "      <td>181.0</td>\n",
       "      <td>0.99830</td>\n",
       "      <td>3.18</td>\n",
       "      <td>0.61</td>\n",
       "      <td>9.3</td>\n",
       "      <td>7</td>\n",
       "      <td>7</td>\n",
       "    </tr>\n",
       "    <tr>\n",
       "      <th>4</th>\n",
       "      <td>7.0</td>\n",
       "      <td>0.14</td>\n",
       "      <td>0.41</td>\n",
       "      <td>0.9</td>\n",
       "      <td>0.037</td>\n",
       "      <td>22.0</td>\n",
       "      <td>95.0</td>\n",
       "      <td>0.99140</td>\n",
       "      <td>3.25</td>\n",
       "      <td>0.43</td>\n",
       "      <td>10.9</td>\n",
       "      <td>6</td>\n",
       "      <td>6</td>\n",
       "    </tr>\n",
       "    <tr>\n",
       "      <th>5</th>\n",
       "      <td>10.6</td>\n",
       "      <td>0.83</td>\n",
       "      <td>0.37</td>\n",
       "      <td>2.6</td>\n",
       "      <td>0.086</td>\n",
       "      <td>26.0</td>\n",
       "      <td>70.0</td>\n",
       "      <td>0.99810</td>\n",
       "      <td>3.16</td>\n",
       "      <td>0.52</td>\n",
       "      <td>9.9</td>\n",
       "      <td>5</td>\n",
       "      <td>5</td>\n",
       "    </tr>\n",
       "    <tr>\n",
       "      <th>6</th>\n",
       "      <td>7.4</td>\n",
       "      <td>0.18</td>\n",
       "      <td>0.30</td>\n",
       "      <td>10.4</td>\n",
       "      <td>0.045</td>\n",
       "      <td>44.0</td>\n",
       "      <td>174.0</td>\n",
       "      <td>0.99660</td>\n",
       "      <td>3.11</td>\n",
       "      <td>0.57</td>\n",
       "      <td>9.7</td>\n",
       "      <td>6</td>\n",
       "      <td>6</td>\n",
       "    </tr>\n",
       "    <tr>\n",
       "      <th>7</th>\n",
       "      <td>10.9</td>\n",
       "      <td>0.53</td>\n",
       "      <td>0.49</td>\n",
       "      <td>4.6</td>\n",
       "      <td>0.118</td>\n",
       "      <td>10.0</td>\n",
       "      <td>17.0</td>\n",
       "      <td>1.00020</td>\n",
       "      <td>3.07</td>\n",
       "      <td>0.56</td>\n",
       "      <td>11.7</td>\n",
       "      <td>6</td>\n",
       "      <td>6</td>\n",
       "    </tr>\n",
       "    <tr>\n",
       "      <th>8</th>\n",
       "      <td>4.4</td>\n",
       "      <td>0.46</td>\n",
       "      <td>0.10</td>\n",
       "      <td>2.8</td>\n",
       "      <td>0.024</td>\n",
       "      <td>31.0</td>\n",
       "      <td>111.0</td>\n",
       "      <td>0.98816</td>\n",
       "      <td>3.48</td>\n",
       "      <td>0.34</td>\n",
       "      <td>13.1</td>\n",
       "      <td>6</td>\n",
       "      <td>6</td>\n",
       "    </tr>\n",
       "    <tr>\n",
       "      <th>9</th>\n",
       "      <td>8.1</td>\n",
       "      <td>0.38</td>\n",
       "      <td>0.28</td>\n",
       "      <td>2.1</td>\n",
       "      <td>0.066</td>\n",
       "      <td>13.0</td>\n",
       "      <td>30.0</td>\n",
       "      <td>0.99680</td>\n",
       "      <td>3.23</td>\n",
       "      <td>0.73</td>\n",
       "      <td>9.7</td>\n",
       "      <td>7</td>\n",
       "      <td>7</td>\n",
       "    </tr>\n",
       "  </tbody>\n",
       "</table>\n",
       "</div>"
      ],
      "text/plain": [
       "   fixed acidity  volatile acidity  citric acid  residual sugar  chlorides  \\\n",
       "0           11.7              0.45         0.63             2.2      0.073   \n",
       "1            7.0              0.62         0.18             1.5      0.062   \n",
       "2            9.0              0.30         0.49             7.2      0.039   \n",
       "3            7.0              0.30         0.38            14.9      0.032   \n",
       "4            7.0              0.14         0.41             0.9      0.037   \n",
       "5           10.6              0.83         0.37             2.6      0.086   \n",
       "6            7.4              0.18         0.30            10.4      0.045   \n",
       "7           10.9              0.53         0.49             4.6      0.118   \n",
       "8            4.4              0.46         0.10             2.8      0.024   \n",
       "9            8.1              0.38         0.28             2.1      0.066   \n",
       "\n",
       "   free sulfur dioxide  total sulfur dioxide  density    pH  sulphates  \\\n",
       "0                  7.0                  23.0  0.99974  3.21       0.69   \n",
       "1                  7.0                  50.0  0.99510  3.08       0.60   \n",
       "2                 32.0                  84.0  0.99380  2.94       0.32   \n",
       "3                 60.0                 181.0  0.99830  3.18       0.61   \n",
       "4                 22.0                  95.0  0.99140  3.25       0.43   \n",
       "5                 26.0                  70.0  0.99810  3.16       0.52   \n",
       "6                 44.0                 174.0  0.99660  3.11       0.57   \n",
       "7                 10.0                  17.0  1.00020  3.07       0.56   \n",
       "8                 31.0                 111.0  0.98816  3.48       0.34   \n",
       "9                 13.0                  30.0  0.99680  3.23       0.73   \n",
       "\n",
       "   alcohol  quality  predicted quality  \n",
       "0     10.9        6                  6  \n",
       "1      9.3        5                  5  \n",
       "2     11.5        6                  6  \n",
       "3      9.3        7                  7  \n",
       "4     10.9        6                  6  \n",
       "5      9.9        5                  5  \n",
       "6      9.7        6                  6  \n",
       "7     11.7        6                  6  \n",
       "8     13.1        6                  6  \n",
       "9      9.7        7                  7  "
      ]
     },
     "execution_count": 96,
     "metadata": {},
     "output_type": "execute_result"
    }
   ],
   "source": [
    "df_training[:10]"
   ]
  },
  {
   "cell_type": "code",
   "execution_count": 90,
   "id": "c22b2cad",
   "metadata": {},
   "outputs": [
    {
     "name": "stderr",
     "output_type": "stream",
     "text": [
      "/var/folders/2s/jfg371412_d0h7r1gk_j_n5w0000gn/T/ipykernel_42817/1100687268.py:5: SettingWithCopyWarning: \n",
      "A value is trying to be set on a copy of a slice from a DataFrame.\n",
      "Try using .loc[row_indexer,col_indexer] = value instead\n",
      "\n",
      "See the caveats in the documentation: https://pandas.pydata.org/pandas-docs/stable/user_guide/indexing.html#returning-a-view-versus-a-copy\n",
      "  df_testing['predicted quality'] = df_col_pred\n"
     ]
    },
    {
     "data": {
      "text/plain": [
       "0.0"
      ]
     },
     "execution_count": 90,
     "metadata": {},
     "output_type": "execute_result"
    }
   ],
   "source": [
    "\n",
    "error_training = getErrorPercent(df_training, df_training, 4,\n",
    "                                 rows_list_training,tree)\n",
    "error_training\n"
   ]
  },
  {
   "cell_type": "code",
   "execution_count": 91,
   "id": "61d82d65",
   "metadata": {},
   "outputs": [],
   "source": [
    "# Now to predict the quality of the wine in the testing dataset."
   ]
  },
  {
   "cell_type": "code",
   "execution_count": 92,
   "id": "da96c485",
   "metadata": {},
   "outputs": [
    {
     "name": "stderr",
     "output_type": "stream",
     "text": [
      "/var/folders/2s/jfg371412_d0h7r1gk_j_n5w0000gn/T/ipykernel_42817/2722869068.py:8: SettingWithCopyWarning: \n",
      "A value is trying to be set on a copy of a slice from a DataFrame.\n",
      "Try using .loc[row_indexer,col_indexer] = value instead\n",
      "\n",
      "See the caveats in the documentation: https://pandas.pydata.org/pandas-docs/stable/user_guide/indexing.html#returning-a-view-versus-a-copy\n",
      "  df_testing['predicted quality'] = predict_rate(df_training, inds_k_4_testing)\n"
     ]
    }
   ],
   "source": [
    "\n",
    "#the list of rows in the testing set\n",
    "rows_list_testing = get_row_list(df_testing)\n",
    "\n",
    "#the list of lists of nearest neighbor indices\n",
    "inds_k_4_testing = tree.query(rows_list_testing, k=4, return_distance = False)\n",
    "\n",
    "#the list of predicted quality of each wine\n",
    "df_testing['predicted quality'] = predict_rate(df_training, inds_k_4_testing)\n"
   ]
  },
  {
   "cell_type": "code",
   "execution_count": 93,
   "id": "c55f9b97",
   "metadata": {},
   "outputs": [
    {
     "data": {
      "text/plain": [
       "0.4703125"
      ]
     },
     "execution_count": 93,
     "metadata": {},
     "output_type": "execute_result"
    }
   ],
   "source": [
    "\n",
    "err_testing = validation(df_testing)\n",
    "err_testing"
   ]
  },
  {
   "cell_type": "code",
   "execution_count": 94,
   "id": "68e8f443",
   "metadata": {},
   "outputs": [
    {
     "data": {
      "text/html": [
       "<div>\n",
       "<style scoped>\n",
       "    .dataframe tbody tr th:only-of-type {\n",
       "        vertical-align: middle;\n",
       "    }\n",
       "\n",
       "    .dataframe tbody tr th {\n",
       "        vertical-align: top;\n",
       "    }\n",
       "\n",
       "    .dataframe thead th {\n",
       "        text-align: right;\n",
       "    }\n",
       "</style>\n",
       "<table border=\"1\" class=\"dataframe\">\n",
       "  <thead>\n",
       "    <tr style=\"text-align: right;\">\n",
       "      <th></th>\n",
       "      <th>fixed acidity</th>\n",
       "      <th>volatile acidity</th>\n",
       "      <th>citric acid</th>\n",
       "      <th>residual sugar</th>\n",
       "      <th>chlorides</th>\n",
       "      <th>free sulfur dioxide</th>\n",
       "      <th>total sulfur dioxide</th>\n",
       "      <th>density</th>\n",
       "      <th>pH</th>\n",
       "      <th>sulphates</th>\n",
       "      <th>alcohol</th>\n",
       "      <th>quality</th>\n",
       "      <th>predicted quality</th>\n",
       "    </tr>\n",
       "  </thead>\n",
       "  <tbody>\n",
       "    <tr>\n",
       "      <th>2558</th>\n",
       "      <td>8.7</td>\n",
       "      <td>0.70</td>\n",
       "      <td>0.24</td>\n",
       "      <td>2.50</td>\n",
       "      <td>0.226</td>\n",
       "      <td>5.0</td>\n",
       "      <td>15.0</td>\n",
       "      <td>0.99910</td>\n",
       "      <td>3.32</td>\n",
       "      <td>0.60</td>\n",
       "      <td>9.0</td>\n",
       "      <td>6</td>\n",
       "      <td>6</td>\n",
       "    </tr>\n",
       "    <tr>\n",
       "      <th>2559</th>\n",
       "      <td>6.4</td>\n",
       "      <td>0.30</td>\n",
       "      <td>0.30</td>\n",
       "      <td>2.25</td>\n",
       "      <td>0.038</td>\n",
       "      <td>8.0</td>\n",
       "      <td>210.0</td>\n",
       "      <td>0.99370</td>\n",
       "      <td>3.20</td>\n",
       "      <td>0.62</td>\n",
       "      <td>9.9</td>\n",
       "      <td>6</td>\n",
       "      <td>5</td>\n",
       "    </tr>\n",
       "    <tr>\n",
       "      <th>2560</th>\n",
       "      <td>7.5</td>\n",
       "      <td>0.42</td>\n",
       "      <td>0.14</td>\n",
       "      <td>10.70</td>\n",
       "      <td>0.046</td>\n",
       "      <td>18.0</td>\n",
       "      <td>95.0</td>\n",
       "      <td>0.99590</td>\n",
       "      <td>3.22</td>\n",
       "      <td>0.33</td>\n",
       "      <td>10.7</td>\n",
       "      <td>5</td>\n",
       "      <td>8</td>\n",
       "    </tr>\n",
       "    <tr>\n",
       "      <th>2561</th>\n",
       "      <td>11.7</td>\n",
       "      <td>0.49</td>\n",
       "      <td>0.49</td>\n",
       "      <td>2.20</td>\n",
       "      <td>0.083</td>\n",
       "      <td>5.0</td>\n",
       "      <td>15.0</td>\n",
       "      <td>1.00000</td>\n",
       "      <td>3.19</td>\n",
       "      <td>0.43</td>\n",
       "      <td>9.2</td>\n",
       "      <td>5</td>\n",
       "      <td>6</td>\n",
       "    </tr>\n",
       "    <tr>\n",
       "      <th>2562</th>\n",
       "      <td>8.7</td>\n",
       "      <td>0.46</td>\n",
       "      <td>0.31</td>\n",
       "      <td>2.50</td>\n",
       "      <td>0.126</td>\n",
       "      <td>24.0</td>\n",
       "      <td>64.0</td>\n",
       "      <td>0.99746</td>\n",
       "      <td>3.10</td>\n",
       "      <td>0.74</td>\n",
       "      <td>9.6</td>\n",
       "      <td>5</td>\n",
       "      <td>6</td>\n",
       "    </tr>\n",
       "    <tr>\n",
       "      <th>2563</th>\n",
       "      <td>6.5</td>\n",
       "      <td>0.26</td>\n",
       "      <td>0.32</td>\n",
       "      <td>16.50</td>\n",
       "      <td>0.045</td>\n",
       "      <td>44.0</td>\n",
       "      <td>166.0</td>\n",
       "      <td>1.00000</td>\n",
       "      <td>3.38</td>\n",
       "      <td>0.46</td>\n",
       "      <td>9.5</td>\n",
       "      <td>6</td>\n",
       "      <td>5</td>\n",
       "    </tr>\n",
       "    <tr>\n",
       "      <th>2564</th>\n",
       "      <td>5.6</td>\n",
       "      <td>0.15</td>\n",
       "      <td>0.26</td>\n",
       "      <td>5.55</td>\n",
       "      <td>0.051</td>\n",
       "      <td>51.0</td>\n",
       "      <td>139.0</td>\n",
       "      <td>0.99336</td>\n",
       "      <td>3.47</td>\n",
       "      <td>0.50</td>\n",
       "      <td>11.0</td>\n",
       "      <td>6</td>\n",
       "      <td>6</td>\n",
       "    </tr>\n",
       "    <tr>\n",
       "      <th>2565</th>\n",
       "      <td>6.3</td>\n",
       "      <td>0.36</td>\n",
       "      <td>0.30</td>\n",
       "      <td>4.80</td>\n",
       "      <td>0.049</td>\n",
       "      <td>14.0</td>\n",
       "      <td>85.0</td>\n",
       "      <td>0.99320</td>\n",
       "      <td>3.28</td>\n",
       "      <td>0.39</td>\n",
       "      <td>10.6</td>\n",
       "      <td>5</td>\n",
       "      <td>5</td>\n",
       "    </tr>\n",
       "    <tr>\n",
       "      <th>2566</th>\n",
       "      <td>6.9</td>\n",
       "      <td>0.33</td>\n",
       "      <td>0.62</td>\n",
       "      <td>7.50</td>\n",
       "      <td>0.038</td>\n",
       "      <td>46.0</td>\n",
       "      <td>132.0</td>\n",
       "      <td>0.99143</td>\n",
       "      <td>3.23</td>\n",
       "      <td>0.43</td>\n",
       "      <td>13.4</td>\n",
       "      <td>7</td>\n",
       "      <td>6</td>\n",
       "    </tr>\n",
       "    <tr>\n",
       "      <th>2567</th>\n",
       "      <td>8.3</td>\n",
       "      <td>0.22</td>\n",
       "      <td>0.38</td>\n",
       "      <td>14.80</td>\n",
       "      <td>0.054</td>\n",
       "      <td>32.0</td>\n",
       "      <td>126.0</td>\n",
       "      <td>1.00020</td>\n",
       "      <td>3.22</td>\n",
       "      <td>0.50</td>\n",
       "      <td>9.7</td>\n",
       "      <td>5</td>\n",
       "      <td>5</td>\n",
       "    </tr>\n",
       "  </tbody>\n",
       "</table>\n",
       "</div>"
      ],
      "text/plain": [
       "      fixed acidity  volatile acidity  citric acid  residual sugar  chlorides  \\\n",
       "2558            8.7              0.70         0.24            2.50      0.226   \n",
       "2559            6.4              0.30         0.30            2.25      0.038   \n",
       "2560            7.5              0.42         0.14           10.70      0.046   \n",
       "2561           11.7              0.49         0.49            2.20      0.083   \n",
       "2562            8.7              0.46         0.31            2.50      0.126   \n",
       "2563            6.5              0.26         0.32           16.50      0.045   \n",
       "2564            5.6              0.15         0.26            5.55      0.051   \n",
       "2565            6.3              0.36         0.30            4.80      0.049   \n",
       "2566            6.9              0.33         0.62            7.50      0.038   \n",
       "2567            8.3              0.22         0.38           14.80      0.054   \n",
       "\n",
       "      free sulfur dioxide  total sulfur dioxide  density    pH  sulphates  \\\n",
       "2558                  5.0                  15.0  0.99910  3.32       0.60   \n",
       "2559                  8.0                 210.0  0.99370  3.20       0.62   \n",
       "2560                 18.0                  95.0  0.99590  3.22       0.33   \n",
       "2561                  5.0                  15.0  1.00000  3.19       0.43   \n",
       "2562                 24.0                  64.0  0.99746  3.10       0.74   \n",
       "2563                 44.0                 166.0  1.00000  3.38       0.46   \n",
       "2564                 51.0                 139.0  0.99336  3.47       0.50   \n",
       "2565                 14.0                  85.0  0.99320  3.28       0.39   \n",
       "2566                 46.0                 132.0  0.99143  3.23       0.43   \n",
       "2567                 32.0                 126.0  1.00020  3.22       0.50   \n",
       "\n",
       "      alcohol  quality  predicted quality  \n",
       "2558      9.0        6                  6  \n",
       "2559      9.9        6                  5  \n",
       "2560     10.7        5                  8  \n",
       "2561      9.2        5                  6  \n",
       "2562      9.6        5                  6  \n",
       "2563      9.5        6                  5  \n",
       "2564     11.0        6                  6  \n",
       "2565     10.6        5                  5  \n",
       "2566     13.4        7                  6  \n",
       "2567      9.7        5                  5  "
      ]
     },
     "execution_count": 94,
     "metadata": {},
     "output_type": "execute_result"
    }
   ],
   "source": [
    "df_testing[:10]"
   ]
  },
  {
   "cell_type": "code",
   "execution_count": 97,
   "id": "0ffb6ff4",
   "metadata": {},
   "outputs": [
    {
     "data": {
      "text/plain": [
       "<matplotlib.legend.Legend at 0x7fe8939ce310>"
      ]
     },
     "execution_count": 97,
     "metadata": {},
     "output_type": "execute_result"
    },
    {
     "data": {
      "image/png": "[encoded data removed]",
      "text/plain": [
       "<Figure size 1332x756 with 1 Axes>"
      ]
     },
     "metadata": {
      "needs_background": "light"
     },
     "output_type": "display_data"
    }
   ],
   "source": [
    "import matplotlib.pyplot as plt\n",
    "\n",
    "fig = plt.figure()\n",
    "fig.set_size_inches(18.5, 10.5)\n",
    "ax1 = fig.add_subplot(111)\n",
    "\n",
    "ax1.scatter(df_testing.index, df_testing['predicted quality'], \n",
    "            s=10, c='b', marker=\"s\", label='predicted quality')\n",
    "ax1.scatter(df_testing.index, df_testing['quality'], s=10, c='r',\n",
    "            marker=\"o\", label='real quality')\n",
    "plt.legend(loc='upper left')"
   ]
  },
  {
   "cell_type": "code",
   "execution_count": 98,
   "id": "ab3bbcb7",
   "metadata": {},
   "outputs": [],
   "source": [
    "# Now to see if we can find the average since the plot is not giving a specific ingredient(s) that correlate to the quality.\n",
    "\n",
    "def rmse(pred, tar):\n",
    "    diff = pred - tar                       \n",
    "    diff_sq = diff ** 2                    \n",
    "    mean_diff_sq = diff_sq.mean()  \n",
    "    rmse_val = np.sqrt(mean_diff_sq)          \n",
    "    return rmse_val*1.0\n",
    "\n"
   ]
  },
  {
   "cell_type": "code",
   "execution_count": 99,
   "id": "5f7b64c2",
   "metadata": {},
   "outputs": [
    {
     "name": "stderr",
     "output_type": "stream",
     "text": [
      "/var/folders/2s/jfg371412_d0h7r1gk_j_n5w0000gn/T/ipykernel_42817/2697853421.py:1: SettingWithCopyWarning: \n",
      "A value is trying to be set on a copy of a slice from a DataFrame.\n",
      "Try using .loc[row_indexer,col_indexer] = value instead\n",
      "\n",
      "See the caveats in the documentation: https://pandas.pydata.org/pandas-docs/stable/user_guide/indexing.html#returning-a-view-versus-a-copy\n",
      "  df_testing['rms']=0.0\n"
     ]
    }
   ],
   "source": [
    "df_testing['rms']=0.0\n",
    "for i in df_testing.index:\n",
    "        df_testing.at[i,'rms'] = rmse(df_testing.at[i,'predicted quality'],\n",
    "                                      df_testing.at[i,'quality'])"
   ]
  },
  {
   "cell_type": "code",
   "execution_count": 100,
   "id": "d2a760d2",
   "metadata": {},
   "outputs": [
    {
     "data": {
      "text/html": [
       "<div>\n",
       "<style scoped>\n",
       "    .dataframe tbody tr th:only-of-type {\n",
       "        vertical-align: middle;\n",
       "    }\n",
       "\n",
       "    .dataframe tbody tr th {\n",
       "        vertical-align: top;\n",
       "    }\n",
       "\n",
       "    .dataframe thead th {\n",
       "        text-align: right;\n",
       "    }\n",
       "</style>\n",
       "<table border=\"1\" class=\"dataframe\">\n",
       "  <thead>\n",
       "    <tr style=\"text-align: right;\">\n",
       "      <th></th>\n",
       "      <th>fixed acidity</th>\n",
       "      <th>volatile acidity</th>\n",
       "      <th>citric acid</th>\n",
       "      <th>residual sugar</th>\n",
       "      <th>chlorides</th>\n",
       "      <th>free sulfur dioxide</th>\n",
       "      <th>total sulfur dioxide</th>\n",
       "      <th>density</th>\n",
       "      <th>pH</th>\n",
       "      <th>sulphates</th>\n",
       "      <th>alcohol</th>\n",
       "      <th>quality</th>\n",
       "      <th>predicted quality</th>\n",
       "      <th>rms</th>\n",
       "    </tr>\n",
       "  </thead>\n",
       "  <tbody>\n",
       "    <tr>\n",
       "      <th>2558</th>\n",
       "      <td>8.7</td>\n",
       "      <td>0.70</td>\n",
       "      <td>0.24</td>\n",
       "      <td>2.50</td>\n",
       "      <td>0.226</td>\n",
       "      <td>5.0</td>\n",
       "      <td>15.0</td>\n",
       "      <td>0.99910</td>\n",
       "      <td>3.32</td>\n",
       "      <td>0.60</td>\n",
       "      <td>9.0</td>\n",
       "      <td>6</td>\n",
       "      <td>6</td>\n",
       "      <td>0.0</td>\n",
       "    </tr>\n",
       "    <tr>\n",
       "      <th>2559</th>\n",
       "      <td>6.4</td>\n",
       "      <td>0.30</td>\n",
       "      <td>0.30</td>\n",
       "      <td>2.25</td>\n",
       "      <td>0.038</td>\n",
       "      <td>8.0</td>\n",
       "      <td>210.0</td>\n",
       "      <td>0.99370</td>\n",
       "      <td>3.20</td>\n",
       "      <td>0.62</td>\n",
       "      <td>9.9</td>\n",
       "      <td>6</td>\n",
       "      <td>5</td>\n",
       "      <td>1.0</td>\n",
       "    </tr>\n",
       "    <tr>\n",
       "      <th>2560</th>\n",
       "      <td>7.5</td>\n",
       "      <td>0.42</td>\n",
       "      <td>0.14</td>\n",
       "      <td>10.70</td>\n",
       "      <td>0.046</td>\n",
       "      <td>18.0</td>\n",
       "      <td>95.0</td>\n",
       "      <td>0.99590</td>\n",
       "      <td>3.22</td>\n",
       "      <td>0.33</td>\n",
       "      <td>10.7</td>\n",
       "      <td>5</td>\n",
       "      <td>8</td>\n",
       "      <td>3.0</td>\n",
       "    </tr>\n",
       "    <tr>\n",
       "      <th>2561</th>\n",
       "      <td>11.7</td>\n",
       "      <td>0.49</td>\n",
       "      <td>0.49</td>\n",
       "      <td>2.20</td>\n",
       "      <td>0.083</td>\n",
       "      <td>5.0</td>\n",
       "      <td>15.0</td>\n",
       "      <td>1.00000</td>\n",
       "      <td>3.19</td>\n",
       "      <td>0.43</td>\n",
       "      <td>9.2</td>\n",
       "      <td>5</td>\n",
       "      <td>6</td>\n",
       "      <td>1.0</td>\n",
       "    </tr>\n",
       "    <tr>\n",
       "      <th>2562</th>\n",
       "      <td>8.7</td>\n",
       "      <td>0.46</td>\n",
       "      <td>0.31</td>\n",
       "      <td>2.50</td>\n",
       "      <td>0.126</td>\n",
       "      <td>24.0</td>\n",
       "      <td>64.0</td>\n",
       "      <td>0.99746</td>\n",
       "      <td>3.10</td>\n",
       "      <td>0.74</td>\n",
       "      <td>9.6</td>\n",
       "      <td>5</td>\n",
       "      <td>6</td>\n",
       "      <td>1.0</td>\n",
       "    </tr>\n",
       "    <tr>\n",
       "      <th>2563</th>\n",
       "      <td>6.5</td>\n",
       "      <td>0.26</td>\n",
       "      <td>0.32</td>\n",
       "      <td>16.50</td>\n",
       "      <td>0.045</td>\n",
       "      <td>44.0</td>\n",
       "      <td>166.0</td>\n",
       "      <td>1.00000</td>\n",
       "      <td>3.38</td>\n",
       "      <td>0.46</td>\n",
       "      <td>9.5</td>\n",
       "      <td>6</td>\n",
       "      <td>5</td>\n",
       "      <td>1.0</td>\n",
       "    </tr>\n",
       "    <tr>\n",
       "      <th>2564</th>\n",
       "      <td>5.6</td>\n",
       "      <td>0.15</td>\n",
       "      <td>0.26</td>\n",
       "      <td>5.55</td>\n",
       "      <td>0.051</td>\n",
       "      <td>51.0</td>\n",
       "      <td>139.0</td>\n",
       "      <td>0.99336</td>\n",
       "      <td>3.47</td>\n",
       "      <td>0.50</td>\n",
       "      <td>11.0</td>\n",
       "      <td>6</td>\n",
       "      <td>6</td>\n",
       "      <td>0.0</td>\n",
       "    </tr>\n",
       "    <tr>\n",
       "      <th>2565</th>\n",
       "      <td>6.3</td>\n",
       "      <td>0.36</td>\n",
       "      <td>0.30</td>\n",
       "      <td>4.80</td>\n",
       "      <td>0.049</td>\n",
       "      <td>14.0</td>\n",
       "      <td>85.0</td>\n",
       "      <td>0.99320</td>\n",
       "      <td>3.28</td>\n",
       "      <td>0.39</td>\n",
       "      <td>10.6</td>\n",
       "      <td>5</td>\n",
       "      <td>5</td>\n",
       "      <td>0.0</td>\n",
       "    </tr>\n",
       "    <tr>\n",
       "      <th>2566</th>\n",
       "      <td>6.9</td>\n",
       "      <td>0.33</td>\n",
       "      <td>0.62</td>\n",
       "      <td>7.50</td>\n",
       "      <td>0.038</td>\n",
       "      <td>46.0</td>\n",
       "      <td>132.0</td>\n",
       "      <td>0.99143</td>\n",
       "      <td>3.23</td>\n",
       "      <td>0.43</td>\n",
       "      <td>13.4</td>\n",
       "      <td>7</td>\n",
       "      <td>6</td>\n",
       "      <td>1.0</td>\n",
       "    </tr>\n",
       "    <tr>\n",
       "      <th>2567</th>\n",
       "      <td>8.3</td>\n",
       "      <td>0.22</td>\n",
       "      <td>0.38</td>\n",
       "      <td>14.80</td>\n",
       "      <td>0.054</td>\n",
       "      <td>32.0</td>\n",
       "      <td>126.0</td>\n",
       "      <td>1.00020</td>\n",
       "      <td>3.22</td>\n",
       "      <td>0.50</td>\n",
       "      <td>9.7</td>\n",
       "      <td>5</td>\n",
       "      <td>5</td>\n",
       "      <td>0.0</td>\n",
       "    </tr>\n",
       "  </tbody>\n",
       "</table>\n",
       "</div>"
      ],
      "text/plain": [
       "      fixed acidity  volatile acidity  citric acid  residual sugar  chlorides  \\\n",
       "2558            8.7              0.70         0.24            2.50      0.226   \n",
       "2559            6.4              0.30         0.30            2.25      0.038   \n",
       "2560            7.5              0.42         0.14           10.70      0.046   \n",
       "2561           11.7              0.49         0.49            2.20      0.083   \n",
       "2562            8.7              0.46         0.31            2.50      0.126   \n",
       "2563            6.5              0.26         0.32           16.50      0.045   \n",
       "2564            5.6              0.15         0.26            5.55      0.051   \n",
       "2565            6.3              0.36         0.30            4.80      0.049   \n",
       "2566            6.9              0.33         0.62            7.50      0.038   \n",
       "2567            8.3              0.22         0.38           14.80      0.054   \n",
       "\n",
       "      free sulfur dioxide  total sulfur dioxide  density    pH  sulphates  \\\n",
       "2558                  5.0                  15.0  0.99910  3.32       0.60   \n",
       "2559                  8.0                 210.0  0.99370  3.20       0.62   \n",
       "2560                 18.0                  95.0  0.99590  3.22       0.33   \n",
       "2561                  5.0                  15.0  1.00000  3.19       0.43   \n",
       "2562                 24.0                  64.0  0.99746  3.10       0.74   \n",
       "2563                 44.0                 166.0  1.00000  3.38       0.46   \n",
       "2564                 51.0                 139.0  0.99336  3.47       0.50   \n",
       "2565                 14.0                  85.0  0.99320  3.28       0.39   \n",
       "2566                 46.0                 132.0  0.99143  3.23       0.43   \n",
       "2567                 32.0                 126.0  1.00020  3.22       0.50   \n",
       "\n",
       "      alcohol  quality  predicted quality  rms  \n",
       "2558      9.0        6                  6  0.0  \n",
       "2559      9.9        6                  5  1.0  \n",
       "2560     10.7        5                  8  3.0  \n",
       "2561      9.2        5                  6  1.0  \n",
       "2562      9.6        5                  6  1.0  \n",
       "2563      9.5        6                  5  1.0  \n",
       "2564     11.0        6                  6  0.0  \n",
       "2565     10.6        5                  5  0.0  \n",
       "2566     13.4        7                  6  1.0  \n",
       "2567      9.7        5                  5  0.0  "
      ]
     },
     "execution_count": 100,
     "metadata": {},
     "output_type": "execute_result"
    }
   ],
   "source": [
    "df_testing[:10]\n"
   ]
  },
  {
   "cell_type": "code",
   "execution_count": null,
   "id": "dd2405f3",
   "metadata": {},
   "outputs": [],
   "source": [
    "# Looking at the lsit above for both sets there are different quality points for the wine "
   ]
  },
  {
   "cell_type": "code",
   "execution_count": 101,
   "id": "9d265807",
   "metadata": {},
   "outputs": [
    {
     "data": {
      "text/plain": [
       "<AxesSubplot:ylabel='Frequency'>"
      ]
     },
     "execution_count": 101,
     "metadata": {},
     "output_type": "execute_result"
    },
    {
     "data": {
      "image/png": "[encoded data removed]",
      "text/plain": [
       "<Figure size 432x288 with 1 Axes>"
      ]
     },
     "metadata": {
      "needs_background": "light"
     },
     "output_type": "display_data"
    }
   ],
   "source": [
    "df_testing['rms'].plot.hist()\n"
   ]
  },
  {
   "cell_type": "code",
   "execution_count": null,
   "id": "a274ce4d",
   "metadata": {},
   "outputs": [],
   "source": []
  }
 ],
 "metadata": {
  "kernelspec": {
   "display_name": "Python 3 (ipykernel)",
   "language": "python",
   "name": "python3"
  },
  "language_info": {
   "codemirror_mode": {
    "name": "ipython",
    "version": 3
   },
   "file_extension": ".py",
   "mimetype": "text/x-python",
   "name": "python",
   "nbconvert_exporter": "python",
   "pygments_lexer": "ipython3",
   "version": "3.9.12"
  },
  "vscode": {
   "interpreter": {
    "hash": "31f2aee4e71d21fbe5cf8b01ff0e069b9275f58929596ceb00d14d90e3e16cd6"
   }
  }
 },
 "nbformat": 4,
 "nbformat_minor": 5
}
